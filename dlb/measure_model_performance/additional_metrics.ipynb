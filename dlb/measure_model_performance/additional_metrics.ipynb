{
  "nbformat": 4,
  "nbformat_minor": 0,
  "metadata": {
    "colab": {
      "provenance": [],
      "collapsed_sections": [
        "e9sc5RKepWoC",
        "nn0P0mw4paqX",
        "pq6zmnkspgEs"
      ]
    },
    "kernelspec": {
      "name": "python3",
      "display_name": "Python 3"
    },
    "language_info": {
      "name": "python"
    }
  },
  "cells": [
    {
      "cell_type": "markdown",
      "source": [
        "In this notebook we introduce additional model performance metrics that\n",
        "can be used for non-standard cases: Cohen's kappa,\n",
        "calibration plots, Brier score, normalized discounted cumulative gain\n",
        "(NDCG)."
      ],
      "metadata": {
        "id": "IM3kYD6kfSt8"
      }
    },
    {
      "cell_type": "markdown",
      "source": [
        "# Cohen's kappa (classification)"
      ],
      "metadata": {
        "id": "e9sc5RKepWoC"
      }
    },
    {
      "cell_type": "markdown",
      "source": [
        "Cohen’s Kappa (κ) is a statistical measure of inter-rater agreement for categorical data, correcting for agreement occurring by chance. Classes are mutually esclusive and not ordered. Think about classifying fruits (apples, oranges, ...)\n",
        "\n",
        "Cohen’s Kappa can be used to measure the agreement between the true and the predicted classification, but it can also be used to evaluate how coherent (or different) two classificators are.\n",
        "\n",
        "The formula for Cohen’s Kappa is:\n",
        "\n",
        "```\n",
        "    P0 - Pe\n",
        "κ = -------\n",
        "     1 - Pe\n",
        "```\n",
        "\n",
        "where:\n",
        "\n",
        "* P0 = observed agreement (the proportion of times the raters agree)\n",
        "* Pe = expected agreement by chance (computed based on the marginal probabilities of each category)\n",
        "\n",
        "It is interpreted as:\n",
        "\n",
        "* κ = 1 : perfect agreement between the two classifications\n",
        "* κ = 0 : the agreement is no better than chance\n",
        "* κ < 0 : there is less agreement than expected by chance (potential systematic disagreement)\n",
        "* κ > 0.8 : strong agreement\n",
        "* 0.4 < κ ≤ 0.8 : medium agreement\n",
        "* κ ≤ 0.4 : poor agreement\n",
        "\n",
        "We can easily compute Cohen's Kappa using [the sklearn function](https://scikit-learn.org/stable/modules/generated/sklearn.metrics.cohen_kappa_score.html):"
      ],
      "metadata": {
        "id": "yGHuL_i4Yd0i"
      }
    },
    {
      "cell_type": "code",
      "execution_count": 1,
      "metadata": {
        "id": "sq12QvKqfQKS",
        "colab": {
          "base_uri": "https://localhost:8080/"
        },
        "outputId": "c1f49f77-70c4-4bfd-817f-f9050b8d553f"
      },
      "outputs": [
        {
          "output_type": "stream",
          "name": "stdout",
          "text": [
            "Cohen's Kappa: 0.7015\n"
          ]
        }
      ],
      "source": [
        "from sklearn.metrics import cohen_kappa_score\n",
        "\n",
        "#two model classify 10 samples\n",
        "predictions_model1 = [0, 1, 1, 2, 2, 2, 0, 1, 2, 0]\n",
        "predictions_model2 = [0, 1, 1, 2, 0, 2, 0, 1, 2, 1]\n",
        "\n",
        "#compute Cohen's Kappa\n",
        "kappa = cohen_kappa_score(predictions_model1, predictions_model2)\n",
        "\n",
        "#print it\n",
        "print(f\"Cohen's Kappa: {kappa:.4f}\")"
      ]
    },
    {
      "cell_type": "markdown",
      "source": [
        "Categories can also be strings:"
      ],
      "metadata": {
        "id": "4gwsedPfbmvq"
      }
    },
    {
      "cell_type": "code",
      "source": [
        "predictions_model1 = [\"negative\", \"positive\", \"negative\", \"neutral\", \"positive\"]\n",
        "predictions_model2 = [\"negative\", \"positive\", \"negative\", \"neutral\", \"negative\"]\n",
        "\n",
        "kappa = cohen_kappa_score(predictions_model1, predictions_model2)\n",
        "print(f\"Cohen's Kappa: {kappa:.4f}\")"
      ],
      "metadata": {
        "colab": {
          "base_uri": "https://localhost:8080/"
        },
        "id": "yy688oLvbaJh",
        "outputId": "65ec82ea-303c-4250-80bb-d30124da4afa"
      },
      "execution_count": 2,
      "outputs": [
        {
          "output_type": "stream",
          "name": "stdout",
          "text": [
            "Cohen's Kappa: 0.6875\n"
          ]
        }
      ]
    },
    {
      "cell_type": "markdown",
      "source": [
        "In the next example the two models always disagree, the final value thus becomes negative"
      ],
      "metadata": {
        "id": "21dDViswcdA4"
      }
    },
    {
      "cell_type": "code",
      "source": [
        "predictions_model1 = [True, False, False,  True,  True]\n",
        "predictions_model2 = [False, True,  True, False, False]\n",
        "\n",
        "kappa = cohen_kappa_score(predictions_model1, predictions_model2)\n",
        "print(f\"Cohen's Kappa: {kappa:.4f}\")"
      ],
      "metadata": {
        "colab": {
          "base_uri": "https://localhost:8080/"
        },
        "id": "K3WDgHs6bz-P",
        "outputId": "920604e0-daee-4e1d-bae8-a237c2a96a90"
      },
      "execution_count": 3,
      "outputs": [
        {
          "output_type": "stream",
          "name": "stdout",
          "text": [
            "Cohen's Kappa: -0.9231\n"
          ]
        }
      ]
    },
    {
      "cell_type": "markdown",
      "source": [
        "# Calibration plots (predicting probabilities)"
      ],
      "metadata": {
        "id": "nn0P0mw4paqX"
      }
    },
    {
      "cell_type": "markdown",
      "source": [
        "Imagine you are making a weather forecast and assigning, for each region on the map, a chance for rain (i.e., the likelihood that it will rain in the next 24 hours). How can you evaluate your model?\n",
        "\n",
        "This is not a classification problem (which would involve a simple rain/not rain decision, a somewhat rough approach).\n",
        "\n",
        "Strictly speaking, it is not a regression problem either, since the values you are predicting are probabilities (thus constrained between zero and one). In theory, you could use metrics designed for regression (e.g., Root Mean Square Error or similar). However, you might want a deeper understanding of your model’s performance—something not fully captured by a single number. This is where calibration plots come in.\n",
        "\n",
        "Here's the recipe for creating a calibration plot:\n",
        "\n",
        "* split all possible values of the predicted probability (e.g. chance of rain) into a number of bins (e.g. below 20%, between 20% and 40%, above 40%). This split will depend heavily on your problem, you may want to do a uniform split of the probabilty or focus on certain critical values\n",
        "* take your predictions and assign them in the appropriate bin\n",
        "* as a consequence, you have also split your samples in bins\n",
        "* compute for each bin the frequency of the event\n",
        "\n",
        "For example, for all the regions in which you predicted a 20% chance of rain, compute how much it actually rained. If the model did a good job we expect that it rained in about 20% of the cases. If you find instead that it rained in 70% of the regions your model likely needs further adjustment.\n",
        "\n",
        "Let's see an example with code. We are going to use the function [calibration_curve from sklearn.](https://scikit-learn.org/stable/modules/generated/sklearn.calibration.calibration_curve.html)"
      ],
      "metadata": {
        "id": "fo8geW_9cr2m"
      }
    },
    {
      "cell_type": "code",
      "source": [
        "import numpy as np\n",
        "import matplotlib.pyplot as plt\n",
        "from sklearn.calibration import calibration_curve\n",
        "\n",
        "#simulated data: predicted probabilities and actual outcomes\n",
        "np.random.seed(42)\n",
        "predicted_probs = np.random.rand(1000)  #random probabilities between 0 and 1\n",
        "actual_outcomes = (predicted_probs > np.random.rand(1000)).astype(int)  #simulated binary outcomes\n",
        "\n",
        "#we introduce a perturbation in the simulated data, just to make things more interesting\n",
        "mask = (predicted_probs > 0.25) & (predicted_probs < 0.30)\n",
        "actual_outcomes[mask] = ((predicted_probs[mask]*2) > np.random.rand(sum(mask))).astype(int)  #simulated binary outcomes\n",
        "\n",
        "#compute calibration curve\n",
        "fraction_of_positives, mean_predicted_value = calibration_curve(actual_outcomes, predicted_probs, n_bins=10)\n",
        "\n",
        "#plot calibration curve\n",
        "plt.figure(figsize=(6, 6))\n",
        "plt.plot(mean_predicted_value, fraction_of_positives, \"s-\", label=\"Model Calibration\")\n",
        "plt.plot([0, 1], [0, 1], \"k--\", label=\"Perfect Calibration\")  # Diagonal reference line\n",
        "plt.xlabel(\"Predicted Probability\")\n",
        "plt.ylabel(\"Observed Frequency\")\n",
        "plt.title(\"Calibration Plot\")\n",
        "plt.legend()\n",
        "plt.grid(True)\n",
        "plt.show()"
      ],
      "metadata": {
        "colab": {
          "base_uri": "https://localhost:8080/",
          "height": 564
        },
        "id": "wlO4ZTdXhXgo",
        "outputId": "82a9c97f-c912-41b2-cd5b-68b3744d60ae"
      },
      "execution_count": 22,
      "outputs": [
        {
          "output_type": "display_data",
          "data": {
            "text/plain": [
              "<Figure size 600x600 with 1 Axes>"
            ],
            "image/png": "[encoded data removed]"
          },
          "metadata": {}
        }
      ]
    },
    {
      "cell_type": "markdown",
      "source": [
        "The example above shows an (exaggerated) trend in our predictor: all probabilities are correctly estimated (the dots are close to the perfect calibration line), with the only exception of the interval between 0.25 and 0.35. In this case further analysis would be required."
      ],
      "metadata": {
        "id": "8mk343Fih76V"
      }
    },
    {
      "cell_type": "markdown",
      "source": [
        "# Brier score (predicting probabilities)"
      ],
      "metadata": {
        "id": "pq6zmnkspgEs"
      }
    },
    {
      "cell_type": "markdown",
      "source": [
        "Similarly to calibration curves, Brier score is used when the model is used to predict probabilities. It is a specialized metric. It is computed as:\n",
        "\n",
        "```\n",
        "               1     N\n",
        "Brier Score = --- *  SUM (Pi - Oi)^2\n",
        "               N     i=1\n",
        "```\n",
        "\n",
        "With:\n",
        "\n",
        "* N : number of predictions\n",
        "* Pi : predicted probability of event occurring for sample i\n",
        "* Oi : actual outcome for sample i (1 if event occurred, 0 if it didn't)\n",
        "\n",
        "It is interpreted as an error:\n",
        "\n",
        "* Brier Score = 0 : perfect predictions\n",
        "* Brier Score = 1 : worst possible predictions\n",
        "* lower Brier Score: better predictions\n",
        "\n",
        "Unlike classification accuracy, the Brier Score penalizes incorrect confidence levels. A model that predicts 90% probability but is wrong is penalized more than one that predicts 60% and is wrong.\n",
        "\n",
        "Let's see a code example using [brier_score_loss function from sklearn](https://scikit-learn.org/stable/modules/generated/sklearn.metrics.brier_score_loss.html)."
      ],
      "metadata": {
        "id": "3c4VJg23cnf9"
      }
    },
    {
      "cell_type": "code",
      "source": [
        "from sklearn.metrics import brier_score_loss\n",
        "\n",
        "#example: predicted probabilities and actual binary outcomes\n",
        "#actual outcomes (1 = event occurred, 0 = event did not occur)\n",
        "y_pred = [0.1, 0.4, 0.8, 0.6, 0.9]\n",
        "y_true = [0,     0,   1,   1,   1]\n",
        "\n",
        "#compute and print Brier Score\n",
        "brier_score = brier_score_loss(y_true, y_pred)\n",
        "print(f\"Brier Score: {brier_score:.4f}\")"
      ],
      "metadata": {
        "colab": {
          "base_uri": "https://localhost:8080/"
        },
        "id": "AGVsoiNWoXdC",
        "outputId": "64713b5b-071a-42f3-b1ba-cfeaebb28967"
      },
      "execution_count": 23,
      "outputs": [
        {
          "output_type": "stream",
          "name": "stdout",
          "text": [
            "Brier Score: 0.0760\n"
          ]
        }
      ]
    },
    {
      "cell_type": "markdown",
      "source": [
        "# Normalized Discounted Cumulative Gain (predicting rankings)"
      ],
      "metadata": {
        "id": "UtWsw2P7csth"
      }
    },
    {
      "cell_type": "markdown",
      "source": [
        "Normalized Discounted Cumulative Gain (NDCG) is a ranking evaluation metric. It is used when the model predicts rankings, i.e. sorts the samples. This is widely use, for example, by search engines, whose task is to output the links to the websites starting from the ones most related to your query.\n",
        "NDCG is also commonly used when evaluating recommender systems (\"play this next...\") It quantifies how well the predicted ranking of items aligns with the ideal ranking.\n",
        "\n",
        "NDCG is based on Discounted Cumulative Gain (DCG), which rewards highly relevant items appearing earlier in the ranked list while penalizing relevant items appearing later.\n",
        "\n",
        "NDCG ranges from zero (worst possible ranking) to one (perfect ranking). We'll compute it using [ndcg_score from sklearn library](https://scikit-learn.org/stable/modules/generated/sklearn.metrics.ndcg_score.html).\n"
      ],
      "metadata": {
        "id": "q5QfX5vzpnEX"
      }
    },
    {
      "cell_type": "code",
      "source": [
        "import numpy as np\n",
        "from sklearn.metrics import ndcg_score\n",
        "\n",
        "#example: relevance scores of retrieved documents. Higher values\n",
        "#mean that the item has higher interest for the ranking\n",
        "y_true = np.array([[  5,   2,   3,   0,   1,  4]])  #true relevance scores, 0 means top\n",
        "y_pred = np.array([[  4, 1.0, 2.0, 3.0, 0.0, 1.5]])  #predicted ranking scores\n",
        "\n",
        "#compute NDCG\n",
        "ndcg = ndcg_score(y_true, y_pred)\n",
        "print(f\"NDCG Score: {ndcg:.4f}\")"
      ],
      "metadata": {
        "colab": {
          "base_uri": "https://localhost:8080/"
        },
        "id": "33duyl6Dq9Dp",
        "outputId": "a7bb6c17-89e0-49ef-ff47-d4c62a51ccbc"
      },
      "execution_count": 46,
      "outputs": [
        {
          "output_type": "stream",
          "name": "stdout",
          "text": [
            "NDCG Score: 0.9105\n"
          ]
        }
      ]
    },
    {
      "cell_type": "markdown",
      "source": [
        "Note that the actual values in the predictions don't count:"
      ],
      "metadata": {
        "id": "EU_vDu_KsHIg"
      }
    },
    {
      "cell_type": "code",
      "source": [
        "#doubling the predictions\n",
        "y_new = y_pred * 2\n",
        "ndcg = ndcg_score(y_true, y_new)\n",
        "print(f\"[doubled] NDCG Score : {ndcg:.4f}\")\n",
        "\n",
        "#introducing a bias\n",
        "y_new = y_pred + 5\n",
        "ndcg = ndcg_score(y_true, y_new)\n",
        "print(f\"[ biased] NDCG Score : {ndcg:.4f}\")\n",
        "\n",
        "#exaggerating the importance of the top-classified element\n",
        "y_new = y_pred\n",
        "y_new[0][0] = 100\n",
        "ndcg = ndcg_score(y_true, y_new)\n",
        "print(f\"[megatop] NDCG Score : {ndcg:.4f}\")"
      ],
      "metadata": {
        "colab": {
          "base_uri": "https://localhost:8080/"
        },
        "id": "IXjkdHJHsNLw",
        "outputId": "2f124a87-1329-4f72-8f47-a213326b2afa"
      },
      "execution_count": 49,
      "outputs": [
        {
          "output_type": "stream",
          "name": "stdout",
          "text": [
            "[doubled] NDCG Score : 0.9105\n",
            "[ biased] NDCG Score : 0.9105\n",
            "[megatop] NDCG Score : 0.9105\n"
          ]
        }
      ]
    },
    {
      "cell_type": "markdown",
      "source": [
        "It is also possible to compute NDCG only on the top samples (e.g. only on the top three). In this case the predictions for lower scoring samples are just ignored. It is implemented as:"
      ],
      "metadata": {
        "id": "FJJrROS7t4eA"
      }
    },
    {
      "cell_type": "code",
      "source": [
        "#ranking will focus on the top three predictions\n",
        "#In this example we have perfect ranking of the top three\n",
        "#samples and completely wrong ranking for the other three\n",
        "y_true = np.array([[ 10,  9,  8,  7,  6,  5,  4,  3,  2,  1]])\n",
        "y_pred = np.array([[ 10,  9,  8, -7, -6, -5, -4, -3, -2, -1]])\n",
        "\n",
        "#compute NDCG on all samples (three good ranking, seven bad ranking)\n",
        "ndcg = ndcg_score(y_true, y_pred)\n",
        "print(f\"[ all] NDCG Score : {ndcg:.4f}\")\n",
        "\n",
        "#compute NDCG only on the top three samples (perfect ranking)\n",
        "ndcg = ndcg_score(y_true, y_pred, k=3)\n",
        "print(f\"[top3] NDCG Score : {ndcg:.4f}\")"
      ],
      "metadata": {
        "colab": {
          "base_uri": "https://localhost:8080/"
        },
        "id": "NErPkYNAuWOS",
        "outputId": "f1a69d11-3e2d-42c6-e8e9-c71dff398ee1"
      },
      "execution_count": 52,
      "outputs": [
        {
          "output_type": "stream",
          "name": "stdout",
          "text": [
            "[ all] NDCG Score : 0.9575\n",
            "[top3] NDCG Score : 1.0000\n"
          ]
        }
      ]
    }
  ]
}