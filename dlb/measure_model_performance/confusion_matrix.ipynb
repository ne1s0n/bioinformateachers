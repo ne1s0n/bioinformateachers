{
  "nbformat": 4,
  "nbformat_minor": 0,
  "metadata": {
    "colab": {
      "provenance": []
    },
    "kernelspec": {
      "name": "python3",
      "display_name": "Python 3"
    },
    "language_info": {
      "name": "python"
    }
  },
  "cells": [
    {
      "cell_type": "markdown",
      "source": [
        "# Confusion matrix"
      ],
      "metadata": {
        "id": "IM3kYD6kfSt8"
      }
    },
    {
      "cell_type": "code",
      "execution_count": null,
      "metadata": {
        "id": "sq12QvKqfQKS"
      },
      "outputs": [],
      "source": [
        "import numpy as np\n",
        "import pandas as pd\n",
        "import matplotlib.pyplot as plt"
      ]
    },
    {
      "cell_type": "code",
      "source": [
        "DATASET_URL = 'https://raw.githubusercontent.com/ne1s0n/bioinformateachers/refs/heads/main/dlb/data/predictions.csv'"
      ],
      "metadata": {
        "id": "LWNyq_hWU7Xc"
      },
      "execution_count": null,
      "outputs": []
    },
    {
      "cell_type": "code",
      "source": [
        "bc_data = pd.read_csv(DATASET_URL)\n",
        "bc_data.head()"
      ],
      "metadata": {
        "id": "llnG_U9TU9wj"
      },
      "execution_count": null,
      "outputs": []
    },
    {
      "cell_type": "markdown",
      "source": [],
      "metadata": {
        "id": "ZmSatDrAXiUm"
      }
    },
    {
      "cell_type": "code",
      "source": [
        "from sklearn.metrics import confusion_matrix\n",
        "\n",
        "predictions = bc_data['y_pred']\n",
        "observations = bc_data['y_test']\n",
        "\n",
        "predicted_labels = np.where(predictions == 1.0, \"case\", \"control\")\n",
        "target_labels = np.where(observations == 1.0, \"case\", \"control\")\n",
        "\n",
        "con_mat_df = confusion_matrix(target_labels, predicted_labels, labels=[\"control\",\"case\"])\n",
        "print(con_mat_df)"
      ],
      "metadata": {
        "id": "DpCktl3HXg-b"
      },
      "execution_count": null,
      "outputs": []
    },
    {
      "cell_type": "code",
      "source": [
        "import seaborn as sn\n",
        "\n",
        "figure = plt.figure(figsize=(8, 8))\n",
        "sn.heatmap(con_mat_df, annot=True,cmap=plt.cm.Blues)\n",
        "plt.tight_layout()\n",
        "plt.ylabel('True label')\n",
        "plt.xlabel('Predicted label')\n",
        "plt.show()"
      ],
      "metadata": {
        "id": "5Azu-CTZnEVi"
      },
      "execution_count": null,
      "outputs": []
    },
    {
      "cell_type": "code",
      "source": [
        "confusion_matrix(target_labels, predicted_labels, normalize='true', labels=[\"control\",\"case\"])"
      ],
      "metadata": {
        "id": "TrhRmbtanYZL"
      },
      "execution_count": null,
      "outputs": []
    }
  ]
}