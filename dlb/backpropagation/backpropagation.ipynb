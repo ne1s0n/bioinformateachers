{
 "cells": [
  {
   "cell_type": "markdown",
   "id": "68f30817",
   "metadata": {},
   "source": [
    "## Backpropagation example\n",
    "\n",
    "With this numerical example we illustrate how forward- and back-propagation work to learn the weights (parameters) of a **neural network**.\n",
    "\n",
    "We use a very simple network: this is far from a real-application network, but serves well the purpose of showing with numbers what happens in the network.\n",
    "\n",
    "In particular, the following simplifications apply:\n",
    "- only one training example (one record, with two features $x_1$ and $x_2$)\n",
    "- two numerical outputs $y = [y_1,y_2]$ (e.g. two continuous measurements on the same training example)\n",
    "- one hidden (intermediate) layer with two nodes\n",
    "- no bias terms\n",
    "\n",
    "<img src=\"simple_network.jpg\" alt=\"network\" style=\"width: 800px;\"/>\n",
    "\n",
    "We use the notation:\n",
    "- $z_{ij}$ to indicate the linear combination of inputs in layer $i$ and node $j$\n",
    "- $a_{ij}$ to indicate the activated linear combination $z$ in layer $i$ and node $j$\n",
    "- $\\hat{y}$ to indicate predicted values for the target variable $y$"
   ]
  },
  {
   "cell_type": "code",
   "execution_count": null,
   "id": "c54fe269",
   "metadata": {},
   "outputs": [],
   "source": []
  }
 ],
 "metadata": {
  "kernelspec": {
   "display_name": "Python 3 (ipykernel)",
   "language": "python",
   "name": "python3"
  },
  "language_info": {
   "codemirror_mode": {
    "name": "ipython",
    "version": 3
   },
   "file_extension": ".py",
   "mimetype": "text/x-python",
   "name": "python",
   "nbconvert_exporter": "python",
   "pygments_lexer": "ipython3",
   "version": "3.10.4"
  }
 },
 "nbformat": 4,
 "nbformat_minor": 5
}
