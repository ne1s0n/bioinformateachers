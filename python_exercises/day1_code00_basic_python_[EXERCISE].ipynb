{
  "nbformat": 4,
  "nbformat_minor": 0,
  "metadata": {
    "colab": {
      "name": "day1_code00 basic python [EXERCISE].ipynb",
      "provenance": [],
      "collapsed_sections": []
    },
    "kernelspec": {
      "name": "python3",
      "display_name": "Python 3"
    }
  },
  "cells": [
    {
      "cell_type": "markdown",
      "metadata": {
        "id": "jaH0umpACXMW"
      },
      "source": [
        "## Trying out Jupyter Notebooks with basic relevant Python\n",
        "\n",
        "Let's get acquainted with Python (3) and interactive Jupyter Notebooks (ipynb), our main working tools throughout the course.\n",
        "\n",
        "First of all, in an `ipynb` file we distinguish:\n",
        "\n",
        "- text chunks: where we write instructions, comments, explanations (like this one!)\n",
        "- code chunks: where we write Python instructions to be executed\n",
        "\n",
        "As for `Python`, we will mainly use three fundamental libraries:\n",
        "\n",
        "1. `numpy`: to work with arrays (vectors, matrices)\n",
        "2. `pandas`: to work with dataframes (reading and manipulating datasets)\n",
        "3. `matplotlib`: to visualize data and results (making plots)\n",
        "\n",
        "In addition, we'll use `Keras` for deep learning: we'll see more on this later.\n",
        "\n",
        "This is not a course on Python, not even an introduction: just a few notes to get some basic acquaintance with these libraries."
      ]
    },
    {
      "cell_type": "markdown",
      "metadata": {
        "id": "aiwyg8qDfr8Z"
      },
      "source": [
        "# How to proceed?\n",
        "Tell us your preference!"
      ]
    },
    {
      "cell_type": "markdown",
      "metadata": {
        "id": "g_Zh_UVRMGAO"
      },
      "source": [
        "### Numpy\n",
        "\n",
        "We start by importing the library and creating a vector (one-dimensional array)"
      ]
    },
    {
      "cell_type": "code",
      "metadata": {
        "id": "Kr0ZWKkUCUHa",
        "colab": {
          "base_uri": "https://localhost:8080/"
        },
        "outputId": "1ada2059-8a38-4dfa-9d9d-d667c9afa220"
      },
      "source": [
        "## import libraries\n",
        "import numpy as np\n",
        "\n",
        "arr_1d = np.array([1, 2, 3, 4, 5, 0, 7, 1, 9])\n",
        "print(arr_1d)"
      ],
      "execution_count": null,
      "outputs": [
        {
          "output_type": "stream",
          "name": "stdout",
          "text": [
            "[1 2 3 4 5 0 7 1 9]\n"
          ]
        }
      ]
    },
    {
      "cell_type": "markdown",
      "metadata": {
        "id": "1g5lIYQ7MwQQ"
      },
      "source": [
        "We can use the array attribute `shape` to get the dimensions of the array"
      ]
    },
    {
      "cell_type": "code",
      "metadata": {
        "id": "qdJmusLYMiVa",
        "colab": {
          "base_uri": "https://localhost:8080/"
        },
        "outputId": "ce4e507e-e2a5-4757-d046-5f0edbda29ea"
      },
      "source": [
        "arr_1d.shape"
      ],
      "execution_count": null,
      "outputs": [
        {
          "output_type": "execute_result",
          "data": {
            "text/plain": [
              "(9,)"
            ]
          },
          "metadata": {},
          "execution_count": 2
        }
      ]
    },
    {
      "cell_type": "markdown",
      "metadata": {
        "id": "T_FZlsUDM3lN"
      },
      "source": [
        "We see that by default `numpy` does not specify the second dimension for one-dimensional arrays (vectors). If you want to make this explicit (which may turn out to be helpful for some array operations and to avoid ambiguous results), you can use the **function** `reshape()`:"
      ]
    },
    {
      "cell_type": "code",
      "metadata": {
        "id": "RHIOgFTEMoU7",
        "colab": {
          "base_uri": "https://localhost:8080/"
        },
        "outputId": "d0946092-c0d9-404c-b7d3-878edb6fe483"
      },
      "source": [
        "arr_1d = arr_1d.reshape(len(arr_1d),1)\n",
        "print(arr_1d.shape)"
      ],
      "execution_count": null,
      "outputs": [
        {
          "output_type": "stream",
          "name": "stdout",
          "text": [
            "(9, 1)\n"
          ]
        }
      ]
    },
    {
      "cell_type": "markdown",
      "metadata": {
        "id": "5xxg35CINw6j"
      },
      "source": [
        "We can also build arrays with more dimensions (matrices, \"tensors\"): in deep learning, mastering the dimensions of tensors (multidimensional arrays) is very important!"
      ]
    },
    {
      "cell_type": "code",
      "metadata": {
        "id": "49Los7EiMhCk",
        "colab": {
          "base_uri": "https://localhost:8080/"
        },
        "outputId": "88614150-aafa-449c-cd15-085d95fbbe57"
      },
      "source": [
        "arr_2d = np.array([[1, 2, 3], [4, 5, 6]])\n",
        "print(arr_2d)\n",
        "print(arr_2d.shape) ## 2 rows, 3 columns"
      ],
      "execution_count": null,
      "outputs": [
        {
          "output_type": "stream",
          "name": "stdout",
          "text": [
            "[[1 2 3]\n",
            " [4 5 6]]\n",
            "(2, 3)\n"
          ]
        }
      ]
    },
    {
      "cell_type": "code",
      "metadata": {
        "id": "YuiabkJbNsfi",
        "colab": {
          "base_uri": "https://localhost:8080/"
        },
        "outputId": "5e30f8ea-9879-4f11-abed-d6308adb1f9f"
      },
      "source": [
        "arr_3d = np.array([[[1, 2, 3], [4, 5, 6]], [[1, 2, 3], [4, 5, 6]]])\n",
        "print(arr_3d)\n",
        "print(arr_3d.shape) ## 2 layers, 2 row, 3 columns"
      ],
      "execution_count": null,
      "outputs": [
        {
          "output_type": "stream",
          "name": "stdout",
          "text": [
            "[[[1 2 3]\n",
            "  [4 5 6]]\n",
            "\n",
            " [[1 2 3]\n",
            "  [4 5 6]]]\n",
            "(2, 2, 3)\n"
          ]
        }
      ]
    },
    {
      "cell_type": "code",
      "metadata": {
        "id": "NkAkRRmpQkF_",
        "colab": {
          "base_uri": "https://localhost:8080/"
        },
        "outputId": "f8a9dbdb-21c1-4385-d123-2cb6c710c8c7"
      },
      "source": [
        "value = arr_3d[0,1,2] ## get first layer, second row, third element (indexing in Python starts at 0!)\n",
        "print(value)"
      ],
      "execution_count": null,
      "outputs": [
        {
          "output_type": "stream",
          "name": "stdout",
          "text": [
            "6\n"
          ]
        }
      ]
    },
    {
      "cell_type": "markdown",
      "metadata": {
        "id": "L8PSvRstRI_x"
      },
      "source": [
        "- use array indices for slicing: `[start:end]`\n",
        "- a step argument can be added: `[start:end:step]`"
      ]
    },
    {
      "cell_type": "code",
      "metadata": {
        "id": "Zot89l11RHIS",
        "colab": {
          "base_uri": "https://localhost:8080/"
        },
        "outputId": "43a06d71-0cfb-4f44-8d98-eae9a3b135cb"
      },
      "source": [
        "print(arr_1d[:]) ## entire array\n",
        "print(arr_1d[3:6]) ## elements 4, 5 and 6 of the array\n",
        "print(arr_1d[:3]) ## first three elements of the array --> equivalent to arr_1d[0:3] \n",
        "print(arr_1d[7:]) ## last two elements of the array --> equivalent to arr_1d[7:len(arr_1d)] "
      ],
      "execution_count": null,
      "outputs": [
        {
          "output_type": "stream",
          "name": "stdout",
          "text": [
            "[1 2 3 4 5 0 7 1 9]\n",
            "[4 5 0]\n",
            "[1 2 3]\n",
            "[1 9]\n"
          ]
        }
      ]
    },
    {
      "cell_type": "markdown",
      "metadata": {
        "id": "53bjX-f9Vv0P"
      },
      "source": [
        "More on `numpy` can be found for instance <a href='https://numpy.org/devdocs/user/quickstart.html'>here</a>\n",
        "\n",
        "### Pandas\n",
        "\n",
        "Python library to work with tabular data (multidimensional), in the form of mainly **dataframes**.\n",
        "\n",
        "We load the library and create a first dataframe:"
      ]
    },
    {
      "cell_type": "code",
      "metadata": {
        "id": "-ZcspfLkV3wM",
        "colab": {
          "base_uri": "https://localhost:8080/",
          "height": 294
        },
        "outputId": "2e25a05c-b951-4747-d279-6cffbaebe555"
      },
      "source": [
        "import pandas as pd\n",
        "\n",
        "df = pd.DataFrame(np.random.randn(8, 4), columns=list('ABCD'))\n",
        "df"
      ],
      "execution_count": null,
      "outputs": [
        {
          "output_type": "execute_result",
          "data": {
            "text/html": [
              "<div>\n",
              "<style scoped>\n",
              "    .dataframe tbody tr th:only-of-type {\n",
              "        vertical-align: middle;\n",
              "    }\n",
              "\n",
              "    .dataframe tbody tr th {\n",
              "        vertical-align: top;\n",
              "    }\n",
              "\n",
              "    .dataframe thead th {\n",
              "        text-align: right;\n",
              "    }\n",
              "</style>\n",
              "<table border=\"1\" class=\"dataframe\">\n",
              "  <thead>\n",
              "    <tr style=\"text-align: right;\">\n",
              "      <th></th>\n",
              "      <th>A</th>\n",
              "      <th>B</th>\n",
              "      <th>C</th>\n",
              "      <th>D</th>\n",
              "    </tr>\n",
              "  </thead>\n",
              "  <tbody>\n",
              "    <tr>\n",
              "      <th>0</th>\n",
              "      <td>0.398914</td>\n",
              "      <td>0.595600</td>\n",
              "      <td>0.722847</td>\n",
              "      <td>0.342152</td>\n",
              "    </tr>\n",
              "    <tr>\n",
              "      <th>1</th>\n",
              "      <td>-0.310789</td>\n",
              "      <td>-0.048111</td>\n",
              "      <td>0.169421</td>\n",
              "      <td>1.727871</td>\n",
              "    </tr>\n",
              "    <tr>\n",
              "      <th>2</th>\n",
              "      <td>0.278789</td>\n",
              "      <td>0.117495</td>\n",
              "      <td>0.851608</td>\n",
              "      <td>-0.775607</td>\n",
              "    </tr>\n",
              "    <tr>\n",
              "      <th>3</th>\n",
              "      <td>2.268416</td>\n",
              "      <td>-1.271727</td>\n",
              "      <td>-0.966329</td>\n",
              "      <td>0.858242</td>\n",
              "    </tr>\n",
              "    <tr>\n",
              "      <th>4</th>\n",
              "      <td>0.830236</td>\n",
              "      <td>-0.492747</td>\n",
              "      <td>0.288625</td>\n",
              "      <td>0.537770</td>\n",
              "    </tr>\n",
              "    <tr>\n",
              "      <th>5</th>\n",
              "      <td>-0.382968</td>\n",
              "      <td>-0.948586</td>\n",
              "      <td>1.192826</td>\n",
              "      <td>0.289017</td>\n",
              "    </tr>\n",
              "    <tr>\n",
              "      <th>6</th>\n",
              "      <td>2.603261</td>\n",
              "      <td>-0.595265</td>\n",
              "      <td>-0.393591</td>\n",
              "      <td>-0.114592</td>\n",
              "    </tr>\n",
              "    <tr>\n",
              "      <th>7</th>\n",
              "      <td>1.400642</td>\n",
              "      <td>0.355893</td>\n",
              "      <td>0.068987</td>\n",
              "      <td>-0.065986</td>\n",
              "    </tr>\n",
              "  </tbody>\n",
              "</table>\n",
              "</div>"
            ],
            "text/plain": [
              "          A         B         C         D\n",
              "0  0.398914  0.595600  0.722847  0.342152\n",
              "1 -0.310789 -0.048111  0.169421  1.727871\n",
              "2  0.278789  0.117495  0.851608 -0.775607\n",
              "3  2.268416 -1.271727 -0.966329  0.858242\n",
              "4  0.830236 -0.492747  0.288625  0.537770\n",
              "5 -0.382968 -0.948586  1.192826  0.289017\n",
              "6  2.603261 -0.595265 -0.393591 -0.114592\n",
              "7  1.400642  0.355893  0.068987 -0.065986"
            ]
          },
          "metadata": {},
          "execution_count": 8
        }
      ]
    },
    {
      "cell_type": "markdown",
      "metadata": {
        "id": "4MaVObw-ZaBA"
      },
      "source": [
        "With the dataframe attribute `dtypes` we can get the data type of each column in a Pandas dataframe:"
      ]
    },
    {
      "cell_type": "code",
      "metadata": {
        "id": "3wpHa2F9WJxJ",
        "colab": {
          "base_uri": "https://localhost:8080/"
        },
        "outputId": "d3375fe9-5256-4cb7-f883-6d2314fab7ab"
      },
      "source": [
        "df.dtypes"
      ],
      "execution_count": null,
      "outputs": [
        {
          "output_type": "execute_result",
          "data": {
            "text/plain": [
              "A    float64\n",
              "B    float64\n",
              "C    float64\n",
              "D    float64\n",
              "dtype: object"
            ]
          },
          "metadata": {},
          "execution_count": 9
        }
      ]
    },
    {
      "cell_type": "markdown",
      "metadata": {
        "id": "x0UPVJWQaGU6"
      },
      "source": [
        "The Pandas function `head()` will show the first few rows of the dataframe; the attribute `columns` returns the column names."
      ]
    },
    {
      "cell_type": "code",
      "metadata": {
        "id": "5Ztb9mweZt1S",
        "colab": {
          "base_uri": "https://localhost:8080/",
          "height": 202
        },
        "outputId": "9d2ac435-9197-4fa0-9de9-cdc2b7e87ade"
      },
      "source": [
        "df.head()"
      ],
      "execution_count": null,
      "outputs": [
        {
          "output_type": "execute_result",
          "data": {
            "text/html": [
              "<div>\n",
              "<style scoped>\n",
              "    .dataframe tbody tr th:only-of-type {\n",
              "        vertical-align: middle;\n",
              "    }\n",
              "\n",
              "    .dataframe tbody tr th {\n",
              "        vertical-align: top;\n",
              "    }\n",
              "\n",
              "    .dataframe thead th {\n",
              "        text-align: right;\n",
              "    }\n",
              "</style>\n",
              "<table border=\"1\" class=\"dataframe\">\n",
              "  <thead>\n",
              "    <tr style=\"text-align: right;\">\n",
              "      <th></th>\n",
              "      <th>A</th>\n",
              "      <th>B</th>\n",
              "      <th>C</th>\n",
              "      <th>D</th>\n",
              "    </tr>\n",
              "  </thead>\n",
              "  <tbody>\n",
              "    <tr>\n",
              "      <th>0</th>\n",
              "      <td>0.398914</td>\n",
              "      <td>0.595600</td>\n",
              "      <td>0.722847</td>\n",
              "      <td>0.342152</td>\n",
              "    </tr>\n",
              "    <tr>\n",
              "      <th>1</th>\n",
              "      <td>-0.310789</td>\n",
              "      <td>-0.048111</td>\n",
              "      <td>0.169421</td>\n",
              "      <td>1.727871</td>\n",
              "    </tr>\n",
              "    <tr>\n",
              "      <th>2</th>\n",
              "      <td>0.278789</td>\n",
              "      <td>0.117495</td>\n",
              "      <td>0.851608</td>\n",
              "      <td>-0.775607</td>\n",
              "    </tr>\n",
              "    <tr>\n",
              "      <th>3</th>\n",
              "      <td>2.268416</td>\n",
              "      <td>-1.271727</td>\n",
              "      <td>-0.966329</td>\n",
              "      <td>0.858242</td>\n",
              "    </tr>\n",
              "    <tr>\n",
              "      <th>4</th>\n",
              "      <td>0.830236</td>\n",
              "      <td>-0.492747</td>\n",
              "      <td>0.288625</td>\n",
              "      <td>0.537770</td>\n",
              "    </tr>\n",
              "  </tbody>\n",
              "</table>\n",
              "</div>"
            ],
            "text/plain": [
              "          A         B         C         D\n",
              "0  0.398914  0.595600  0.722847  0.342152\n",
              "1 -0.310789 -0.048111  0.169421  1.727871\n",
              "2  0.278789  0.117495  0.851608 -0.775607\n",
              "3  2.268416 -1.271727 -0.966329  0.858242\n",
              "4  0.830236 -0.492747  0.288625  0.537770"
            ]
          },
          "metadata": {},
          "execution_count": 10
        }
      ]
    },
    {
      "cell_type": "code",
      "metadata": {
        "id": "DYWIzjVNaVDJ",
        "colab": {
          "base_uri": "https://localhost:8080/"
        },
        "outputId": "d15cda80-7432-4a39-8a2d-b3e738961059"
      },
      "source": [
        "df.columns"
      ],
      "execution_count": null,
      "outputs": [
        {
          "output_type": "execute_result",
          "data": {
            "text/plain": [
              "Index(['A', 'B', 'C', 'D'], dtype='object')"
            ]
          },
          "metadata": {},
          "execution_count": 11
        }
      ]
    },
    {
      "cell_type": "markdown",
      "metadata": {
        "id": "W3N_MY6Eah7w"
      },
      "source": [
        "With the function `to_numpy()` we convert a dataframe to an array; then we can slice it as we already saw for numpy arrays"
      ]
    },
    {
      "cell_type": "code",
      "metadata": {
        "id": "_DKV0Mh1aWmF",
        "colab": {
          "base_uri": "https://localhost:8080/"
        },
        "outputId": "496c39ca-e188-4618-a4e5-c98fd8dd96d2"
      },
      "source": [
        "arr = df.to_numpy()\n",
        "arr"
      ],
      "execution_count": null,
      "outputs": [
        {
          "output_type": "execute_result",
          "data": {
            "text/plain": [
              "array([[ 0.39891402,  0.59560017,  0.72284667,  0.34215237],\n",
              "       [-0.31078866, -0.04811055,  0.16942147,  1.72787113],\n",
              "       [ 0.27878914,  0.11749498,  0.85160827, -0.77560651],\n",
              "       [ 2.26841633, -1.27172709, -0.96632859,  0.85824204],\n",
              "       [ 0.83023628, -0.49274667,  0.28862485,  0.53777003],\n",
              "       [-0.38296772, -0.94858589,  1.19282578,  0.2890169 ],\n",
              "       [ 2.60326107, -0.5952649 , -0.39359105, -0.11459218],\n",
              "       [ 1.40064208,  0.35589289,  0.06898676, -0.06598619]])"
            ]
          },
          "metadata": {},
          "execution_count": 12
        }
      ]
    },
    {
      "cell_type": "code",
      "metadata": {
        "id": "Y1BEFYf8adzB",
        "colab": {
          "base_uri": "https://localhost:8080/"
        },
        "outputId": "76607994-ad43-4785-fdcb-d2e63b5178f8"
      },
      "source": [
        "arr[:,1] ## get second column"
      ],
      "execution_count": null,
      "outputs": [
        {
          "output_type": "execute_result",
          "data": {
            "text/plain": [
              "array([ 0.59560017, -0.04811055,  0.11749498, -1.27172709, -0.49274667,\n",
              "       -0.94858589, -0.5952649 ,  0.35589289])"
            ]
          },
          "metadata": {},
          "execution_count": 13
        }
      ]
    },
    {
      "cell_type": "markdown",
      "metadata": {
        "id": "3lRZp5vPa__X"
      },
      "source": [
        "You can also slice directly the Pandas dataframe:\n",
        "\n",
        "1. by column name"
      ]
    },
    {
      "cell_type": "code",
      "metadata": {
        "id": "Xy2ny28NbGY1",
        "colab": {
          "base_uri": "https://localhost:8080/"
        },
        "outputId": "1df79f41-3bdf-4fdf-e047-dd69a40a4837"
      },
      "source": [
        "df['A']"
      ],
      "execution_count": null,
      "outputs": [
        {
          "output_type": "execute_result",
          "data": {
            "text/plain": [
              "0    0.398914\n",
              "1   -0.310789\n",
              "2    0.278789\n",
              "3    2.268416\n",
              "4    0.830236\n",
              "5   -0.382968\n",
              "6    2.603261\n",
              "7    1.400642\n",
              "Name: A, dtype: float64"
            ]
          },
          "metadata": {},
          "execution_count": 14
        }
      ]
    },
    {
      "cell_type": "markdown",
      "metadata": {
        "id": "DPtfUDRpeTf2"
      },
      "source": [
        "2. by slicing by rows"
      ]
    },
    {
      "cell_type": "code",
      "metadata": {
        "id": "EEk2sk9BbJia",
        "colab": {
          "base_uri": "https://localhost:8080/",
          "height": 110
        },
        "outputId": "5be3076f-296f-4d45-e137-f8668b82d737"
      },
      "source": [
        "df[0:2]"
      ],
      "execution_count": null,
      "outputs": [
        {
          "output_type": "execute_result",
          "data": {
            "text/html": [
              "<div>\n",
              "<style scoped>\n",
              "    .dataframe tbody tr th:only-of-type {\n",
              "        vertical-align: middle;\n",
              "    }\n",
              "\n",
              "    .dataframe tbody tr th {\n",
              "        vertical-align: top;\n",
              "    }\n",
              "\n",
              "    .dataframe thead th {\n",
              "        text-align: right;\n",
              "    }\n",
              "</style>\n",
              "<table border=\"1\" class=\"dataframe\">\n",
              "  <thead>\n",
              "    <tr style=\"text-align: right;\">\n",
              "      <th></th>\n",
              "      <th>A</th>\n",
              "      <th>B</th>\n",
              "      <th>C</th>\n",
              "      <th>D</th>\n",
              "    </tr>\n",
              "  </thead>\n",
              "  <tbody>\n",
              "    <tr>\n",
              "      <th>0</th>\n",
              "      <td>0.398914</td>\n",
              "      <td>0.595600</td>\n",
              "      <td>0.722847</td>\n",
              "      <td>0.342152</td>\n",
              "    </tr>\n",
              "    <tr>\n",
              "      <th>1</th>\n",
              "      <td>-0.310789</td>\n",
              "      <td>-0.048111</td>\n",
              "      <td>0.169421</td>\n",
              "      <td>1.727871</td>\n",
              "    </tr>\n",
              "  </tbody>\n",
              "</table>\n",
              "</div>"
            ],
            "text/plain": [
              "          A         B         C         D\n",
              "0  0.398914  0.595600  0.722847  0.342152\n",
              "1 -0.310789 -0.048111  0.169421  1.727871"
            ]
          },
          "metadata": {},
          "execution_count": 15
        }
      ]
    },
    {
      "cell_type": "markdown",
      "metadata": {
        "id": "uZB63KcieDBX"
      },
      "source": [
        "3. by row and/or column names using the `.loc` syntax"
      ]
    },
    {
      "cell_type": "code",
      "metadata": {
        "id": "5eRtTHnrbUxp",
        "colab": {
          "base_uri": "https://localhost:8080/",
          "height": 377
        },
        "outputId": "8f9dbde4-3590-4fbf-bd0b-7b48f090be25"
      },
      "source": [
        "print(df.loc[df.index.values[0]])\n",
        "df.loc[:, ['B','C']]"
      ],
      "execution_count": null,
      "outputs": [
        {
          "output_type": "stream",
          "name": "stdout",
          "text": [
            "A    0.398914\n",
            "B    0.595600\n",
            "C    0.722847\n",
            "D    0.342152\n",
            "Name: 0, dtype: float64\n"
          ]
        },
        {
          "output_type": "execute_result",
          "data": {
            "text/html": [
              "<div>\n",
              "<style scoped>\n",
              "    .dataframe tbody tr th:only-of-type {\n",
              "        vertical-align: middle;\n",
              "    }\n",
              "\n",
              "    .dataframe tbody tr th {\n",
              "        vertical-align: top;\n",
              "    }\n",
              "\n",
              "    .dataframe thead th {\n",
              "        text-align: right;\n",
              "    }\n",
              "</style>\n",
              "<table border=\"1\" class=\"dataframe\">\n",
              "  <thead>\n",
              "    <tr style=\"text-align: right;\">\n",
              "      <th></th>\n",
              "      <th>B</th>\n",
              "      <th>C</th>\n",
              "    </tr>\n",
              "  </thead>\n",
              "  <tbody>\n",
              "    <tr>\n",
              "      <th>0</th>\n",
              "      <td>0.595600</td>\n",
              "      <td>0.722847</td>\n",
              "    </tr>\n",
              "    <tr>\n",
              "      <th>1</th>\n",
              "      <td>-0.048111</td>\n",
              "      <td>0.169421</td>\n",
              "    </tr>\n",
              "    <tr>\n",
              "      <th>2</th>\n",
              "      <td>0.117495</td>\n",
              "      <td>0.851608</td>\n",
              "    </tr>\n",
              "    <tr>\n",
              "      <th>3</th>\n",
              "      <td>-1.271727</td>\n",
              "      <td>-0.966329</td>\n",
              "    </tr>\n",
              "    <tr>\n",
              "      <th>4</th>\n",
              "      <td>-0.492747</td>\n",
              "      <td>0.288625</td>\n",
              "    </tr>\n",
              "    <tr>\n",
              "      <th>5</th>\n",
              "      <td>-0.948586</td>\n",
              "      <td>1.192826</td>\n",
              "    </tr>\n",
              "    <tr>\n",
              "      <th>6</th>\n",
              "      <td>-0.595265</td>\n",
              "      <td>-0.393591</td>\n",
              "    </tr>\n",
              "    <tr>\n",
              "      <th>7</th>\n",
              "      <td>0.355893</td>\n",
              "      <td>0.068987</td>\n",
              "    </tr>\n",
              "  </tbody>\n",
              "</table>\n",
              "</div>"
            ],
            "text/plain": [
              "          B         C\n",
              "0  0.595600  0.722847\n",
              "1 -0.048111  0.169421\n",
              "2  0.117495  0.851608\n",
              "3 -1.271727 -0.966329\n",
              "4 -0.492747  0.288625\n",
              "5 -0.948586  1.192826\n",
              "6 -0.595265 -0.393591\n",
              "7  0.355893  0.068987"
            ]
          },
          "metadata": {},
          "execution_count": 16
        }
      ]
    },
    {
      "cell_type": "markdown",
      "metadata": {
        "id": "uU7cZCApeioJ"
      },
      "source": [
        "4. by position using the `.iloc` syntax"
      ]
    },
    {
      "cell_type": "code",
      "metadata": {
        "id": "obQdZOOGeZiK",
        "colab": {
          "base_uri": "https://localhost:8080/",
          "height": 110
        },
        "outputId": "a02563c3-4f0b-4014-9a1c-7e21ec330fda"
      },
      "source": [
        "df.iloc[0:2,2:4]"
      ],
      "execution_count": null,
      "outputs": [
        {
          "output_type": "execute_result",
          "data": {
            "text/html": [
              "<div>\n",
              "<style scoped>\n",
              "    .dataframe tbody tr th:only-of-type {\n",
              "        vertical-align: middle;\n",
              "    }\n",
              "\n",
              "    .dataframe tbody tr th {\n",
              "        vertical-align: top;\n",
              "    }\n",
              "\n",
              "    .dataframe thead th {\n",
              "        text-align: right;\n",
              "    }\n",
              "</style>\n",
              "<table border=\"1\" class=\"dataframe\">\n",
              "  <thead>\n",
              "    <tr style=\"text-align: right;\">\n",
              "      <th></th>\n",
              "      <th>C</th>\n",
              "      <th>D</th>\n",
              "    </tr>\n",
              "  </thead>\n",
              "  <tbody>\n",
              "    <tr>\n",
              "      <th>0</th>\n",
              "      <td>0.722847</td>\n",
              "      <td>0.342152</td>\n",
              "    </tr>\n",
              "    <tr>\n",
              "      <th>1</th>\n",
              "      <td>0.169421</td>\n",
              "      <td>1.727871</td>\n",
              "    </tr>\n",
              "  </tbody>\n",
              "</table>\n",
              "</div>"
            ],
            "text/plain": [
              "          C         D\n",
              "0  0.722847  0.342152\n",
              "1  0.169421  1.727871"
            ]
          },
          "metadata": {},
          "execution_count": 17
        }
      ]
    },
    {
      "cell_type": "markdown",
      "metadata": {
        "id": "MH47bz95exf8"
      },
      "source": [
        "More on `pandas` <a href='https://pandas.pydata.org/pandas-docs/stable/getting_started/tutorials.html'>here</a>\n",
        "\n",
        "### Matplotlib\n",
        "\n",
        "`matplotlib` is a versatile Python library for data visualization which allows you to produce a very large variety of high-quality plots.\n",
        "We import the module `pyplot` from the library and produce a first basic plot:"
      ]
    },
    {
      "cell_type": "code",
      "metadata": {
        "id": "BMJTACwbezSB",
        "colab": {
          "base_uri": "https://localhost:8080/",
          "height": 278
        },
        "outputId": "cc76ce24-6ddf-403a-b288-eaec25a278fd"
      },
      "source": [
        "from matplotlib import pyplot as plt\n",
        "\n",
        "x = np.array([1, 2, 3, 4])\n",
        "y = np.array([1, 4, 9, 16])\n",
        "plt.xlabel('x-axis')\n",
        "plt.ylabel('y-axis')\n",
        "plt.plot(x,y)\n",
        "plt.show() ## not strictly necessary in interactive mode (as ipython or jupyter notebooks)"
      ],
      "execution_count": null,
      "outputs": [
        {
          "output_type": "display_data",
          "data": {
            "image/png": "[encoded data removed]",
            "text/plain": [
              "<Figure size 432x288 with 1 Axes>"
            ]
          },
          "metadata": {
            "needs_background": "light"
          }
        }
      ]
    },
    {
      "cell_type": "markdown",
      "metadata": {
        "id": "OuzNetZFm9ev"
      },
      "source": [
        "Instead of a diagram (line plot), we can also make a **scatter plot**:"
      ]
    },
    {
      "cell_type": "code",
      "metadata": {
        "id": "inJoWtz3lK-2",
        "colab": {
          "base_uri": "https://localhost:8080/",
          "height": 281
        },
        "outputId": "117a5c07-3a4d-4101-eaed-2cbd26680561"
      },
      "source": [
        "x = np.array([1, 2, 3, 4, 0, 2, 7, 4, 10])\n",
        "y = np.array([1, 4, 9, 16, 1, 3, 9, 8, 15])\n",
        "plt.scatter(x,y)"
      ],
      "execution_count": null,
      "outputs": [
        {
          "output_type": "execute_result",
          "data": {
            "text/plain": [
              "<matplotlib.collections.PathCollection at 0x7fc9521af590>"
            ]
          },
          "metadata": {},
          "execution_count": 19
        },
        {
          "output_type": "display_data",
          "data": {
            "image/png": "[encoded data removed]",
            "text/plain": [
              "<Figure size 432x288 with 1 Axes>"
            ]
          },
          "metadata": {
            "needs_background": "light"
          }
        }
      ]
    },
    {
      "cell_type": "markdown",
      "metadata": {
        "id": "aZHXrgO-nK2c"
      },
      "source": [
        "For categorical data, a **barplot** can be used:"
      ]
    },
    {
      "cell_type": "code",
      "metadata": {
        "id": "KTJzqS5Pk2iI",
        "colab": {
          "base_uri": "https://localhost:8080/",
          "height": 211
        },
        "outputId": "eb645e97-78b2-4762-86d3-3471caa271b4"
      },
      "source": [
        "names = ['A', 'B', 'c']\n",
        "values = [1, 10, 100]\n",
        "\n",
        "plt.figure(figsize=(9, 3))\n",
        "\n",
        "plt.plot(131)\n",
        "plt.bar(names, values)\n",
        "plt.show()"
      ],
      "execution_count": null,
      "outputs": [
        {
          "output_type": "display_data",
          "data": {
            "image/png": "[encoded data removed]",
            "text/plain": [
              "<Figure size 648x216 with 1 Axes>"
            ]
          },
          "metadata": {
            "needs_background": "light"
          }
        }
      ]
    },
    {
      "cell_type": "markdown",
      "metadata": {
        "id": "wTdluJEYnlVc"
      },
      "source": [
        "We can plot a distribution from synthetic data using a **histogram**:"
      ]
    },
    {
      "cell_type": "code",
      "metadata": {
        "id": "6E8VIceinbwM",
        "colab": {
          "base_uri": "https://localhost:8080/",
          "height": 294
        },
        "outputId": "52407c65-7e93-4c11-b669-7278878faa61"
      },
      "source": [
        "mu, sigma = 100, 15\n",
        "x = mu + sigma * np.random.randn(10000)\n",
        "\n",
        "# the histogram of the data\n",
        "plt.hist(x, 50, density=1, facecolor='g', alpha=0.75)\n",
        "\n",
        "plt.xlabel('Smarts')\n",
        "plt.ylabel('Probability')\n",
        "plt.title('Histogram of IQ')\n",
        "plt.text(60, .025, r'$\\mu=100,\\ \\sigma=15$')\n",
        "plt.axis([40, 160, 0, 0.03])\n",
        "plt.grid(True)\n",
        "plt.show()"
      ],
      "execution_count": null,
      "outputs": [
        {
          "output_type": "display_data",
          "data": {
            "image/png": "[encoded data removed]",
            "text/plain": [
              "<Figure size 432x288 with 1 Axes>"
            ]
          },
          "metadata": {
            "needs_background": "light"
          }
        }
      ]
    },
    {
      "cell_type": "markdown",
      "metadata": {
        "id": "RJquOQRSxRRa"
      },
      "source": [
        "You can also plot directly from a Pandas dataframe:"
      ]
    },
    {
      "cell_type": "code",
      "metadata": {
        "id": "NimJTo8RtGw2",
        "colab": {
          "base_uri": "https://localhost:8080/",
          "height": 414
        },
        "outputId": "5823c9ba-ee90-4d45-8db1-0c0520671034"
      },
      "source": [
        "df = pd.DataFrame(np.random.randn(1000, 4), columns=list('ABCD'))\n",
        "df"
      ],
      "execution_count": null,
      "outputs": [
        {
          "output_type": "execute_result",
          "data": {
            "text/html": [
              "<div>\n",
              "<style scoped>\n",
              "    .dataframe tbody tr th:only-of-type {\n",
              "        vertical-align: middle;\n",
              "    }\n",
              "\n",
              "    .dataframe tbody tr th {\n",
              "        vertical-align: top;\n",
              "    }\n",
              "\n",
              "    .dataframe thead th {\n",
              "        text-align: right;\n",
              "    }\n",
              "</style>\n",
              "<table border=\"1\" class=\"dataframe\">\n",
              "  <thead>\n",
              "    <tr style=\"text-align: right;\">\n",
              "      <th></th>\n",
              "      <th>A</th>\n",
              "      <th>B</th>\n",
              "      <th>C</th>\n",
              "      <th>D</th>\n",
              "    </tr>\n",
              "  </thead>\n",
              "  <tbody>\n",
              "    <tr>\n",
              "      <th>0</th>\n",
              "      <td>-1.251350</td>\n",
              "      <td>-0.044613</td>\n",
              "      <td>-0.095085</td>\n",
              "      <td>1.569222</td>\n",
              "    </tr>\n",
              "    <tr>\n",
              "      <th>1</th>\n",
              "      <td>-2.049971</td>\n",
              "      <td>-0.170851</td>\n",
              "      <td>-0.351384</td>\n",
              "      <td>-0.952579</td>\n",
              "    </tr>\n",
              "    <tr>\n",
              "      <th>2</th>\n",
              "      <td>0.898424</td>\n",
              "      <td>0.206419</td>\n",
              "      <td>0.105017</td>\n",
              "      <td>0.748168</td>\n",
              "    </tr>\n",
              "    <tr>\n",
              "      <th>3</th>\n",
              "      <td>0.520364</td>\n",
              "      <td>0.218086</td>\n",
              "      <td>0.417163</td>\n",
              "      <td>0.102882</td>\n",
              "    </tr>\n",
              "    <tr>\n",
              "      <th>4</th>\n",
              "      <td>2.017736</td>\n",
              "      <td>-0.174448</td>\n",
              "      <td>-0.496642</td>\n",
              "      <td>3.150813</td>\n",
              "    </tr>\n",
              "    <tr>\n",
              "      <th>...</th>\n",
              "      <td>...</td>\n",
              "      <td>...</td>\n",
              "      <td>...</td>\n",
              "      <td>...</td>\n",
              "    </tr>\n",
              "    <tr>\n",
              "      <th>995</th>\n",
              "      <td>0.302767</td>\n",
              "      <td>-0.186049</td>\n",
              "      <td>1.673362</td>\n",
              "      <td>1.026622</td>\n",
              "    </tr>\n",
              "    <tr>\n",
              "      <th>996</th>\n",
              "      <td>0.355116</td>\n",
              "      <td>0.074642</td>\n",
              "      <td>-0.535387</td>\n",
              "      <td>-0.041433</td>\n",
              "    </tr>\n",
              "    <tr>\n",
              "      <th>997</th>\n",
              "      <td>-0.731787</td>\n",
              "      <td>-0.868482</td>\n",
              "      <td>-1.239900</td>\n",
              "      <td>-1.472321</td>\n",
              "    </tr>\n",
              "    <tr>\n",
              "      <th>998</th>\n",
              "      <td>-0.210806</td>\n",
              "      <td>0.031421</td>\n",
              "      <td>0.072479</td>\n",
              "      <td>0.097377</td>\n",
              "    </tr>\n",
              "    <tr>\n",
              "      <th>999</th>\n",
              "      <td>-0.354091</td>\n",
              "      <td>0.245978</td>\n",
              "      <td>-0.411602</td>\n",
              "      <td>-0.557913</td>\n",
              "    </tr>\n",
              "  </tbody>\n",
              "</table>\n",
              "<p>1000 rows × 4 columns</p>\n",
              "</div>"
            ],
            "text/plain": [
              "            A         B         C         D\n",
              "0   -1.251350 -0.044613 -0.095085  1.569222\n",
              "1   -2.049971 -0.170851 -0.351384 -0.952579\n",
              "2    0.898424  0.206419  0.105017  0.748168\n",
              "3    0.520364  0.218086  0.417163  0.102882\n",
              "4    2.017736 -0.174448 -0.496642  3.150813\n",
              "..        ...       ...       ...       ...\n",
              "995  0.302767 -0.186049  1.673362  1.026622\n",
              "996  0.355116  0.074642 -0.535387 -0.041433\n",
              "997 -0.731787 -0.868482 -1.239900 -1.472321\n",
              "998 -0.210806  0.031421  0.072479  0.097377\n",
              "999 -0.354091  0.245978 -0.411602 -0.557913\n",
              "\n",
              "[1000 rows x 4 columns]"
            ]
          },
          "metadata": {},
          "execution_count": 22
        }
      ]
    },
    {
      "cell_type": "code",
      "metadata": {
        "id": "tP-ZI1qctYAC",
        "colab": {
          "base_uri": "https://localhost:8080/",
          "height": 264
        },
        "outputId": "e9ab2735-3195-4853-e2f3-9ef2c481069c"
      },
      "source": [
        "plt.plot(df)\n",
        "plt.show()"
      ],
      "execution_count": null,
      "outputs": [
        {
          "output_type": "display_data",
          "data": {
            "image/png": "[encoded data removed]",
            "text/plain": [
              "<Figure size 432x288 with 1 Axes>"
            ]
          },
          "metadata": {
            "needs_background": "light"
          }
        }
      ]
    },
    {
      "cell_type": "code",
      "metadata": {
        "id": "6DhtEOBstN0k",
        "colab": {
          "base_uri": "https://localhost:8080/",
          "height": 414
        },
        "outputId": "2808abba-bd1a-4ec5-f0a0-36049dd8ccc7"
      },
      "source": [
        "df = df.cumsum() ## cumulative sums per columns\n",
        "df"
      ],
      "execution_count": null,
      "outputs": [
        {
          "output_type": "execute_result",
          "data": {
            "text/html": [
              "<div>\n",
              "<style scoped>\n",
              "    .dataframe tbody tr th:only-of-type {\n",
              "        vertical-align: middle;\n",
              "    }\n",
              "\n",
              "    .dataframe tbody tr th {\n",
              "        vertical-align: top;\n",
              "    }\n",
              "\n",
              "    .dataframe thead th {\n",
              "        text-align: right;\n",
              "    }\n",
              "</style>\n",
              "<table border=\"1\" class=\"dataframe\">\n",
              "  <thead>\n",
              "    <tr style=\"text-align: right;\">\n",
              "      <th></th>\n",
              "      <th>A</th>\n",
              "      <th>B</th>\n",
              "      <th>C</th>\n",
              "      <th>D</th>\n",
              "    </tr>\n",
              "  </thead>\n",
              "  <tbody>\n",
              "    <tr>\n",
              "      <th>0</th>\n",
              "      <td>-1.251350</td>\n",
              "      <td>-0.044613</td>\n",
              "      <td>-0.095085</td>\n",
              "      <td>1.569222</td>\n",
              "    </tr>\n",
              "    <tr>\n",
              "      <th>1</th>\n",
              "      <td>-3.301321</td>\n",
              "      <td>-0.215464</td>\n",
              "      <td>-0.446469</td>\n",
              "      <td>0.616643</td>\n",
              "    </tr>\n",
              "    <tr>\n",
              "      <th>2</th>\n",
              "      <td>-2.402897</td>\n",
              "      <td>-0.009045</td>\n",
              "      <td>-0.341452</td>\n",
              "      <td>1.364811</td>\n",
              "    </tr>\n",
              "    <tr>\n",
              "      <th>3</th>\n",
              "      <td>-1.882533</td>\n",
              "      <td>0.209041</td>\n",
              "      <td>0.075711</td>\n",
              "      <td>1.467693</td>\n",
              "    </tr>\n",
              "    <tr>\n",
              "      <th>4</th>\n",
              "      <td>0.135203</td>\n",
              "      <td>0.034593</td>\n",
              "      <td>-0.420931</td>\n",
              "      <td>4.618506</td>\n",
              "    </tr>\n",
              "    <tr>\n",
              "      <th>...</th>\n",
              "      <td>...</td>\n",
              "      <td>...</td>\n",
              "      <td>...</td>\n",
              "      <td>...</td>\n",
              "    </tr>\n",
              "    <tr>\n",
              "      <th>995</th>\n",
              "      <td>8.146141</td>\n",
              "      <td>-23.999563</td>\n",
              "      <td>-6.319913</td>\n",
              "      <td>-18.183633</td>\n",
              "    </tr>\n",
              "    <tr>\n",
              "      <th>996</th>\n",
              "      <td>8.501256</td>\n",
              "      <td>-23.924921</td>\n",
              "      <td>-6.855300</td>\n",
              "      <td>-18.225066</td>\n",
              "    </tr>\n",
              "    <tr>\n",
              "      <th>997</th>\n",
              "      <td>7.769469</td>\n",
              "      <td>-24.793403</td>\n",
              "      <td>-8.095200</td>\n",
              "      <td>-19.697387</td>\n",
              "    </tr>\n",
              "    <tr>\n",
              "      <th>998</th>\n",
              "      <td>7.558663</td>\n",
              "      <td>-24.761982</td>\n",
              "      <td>-8.022721</td>\n",
              "      <td>-19.600010</td>\n",
              "    </tr>\n",
              "    <tr>\n",
              "      <th>999</th>\n",
              "      <td>7.204572</td>\n",
              "      <td>-24.516004</td>\n",
              "      <td>-8.434323</td>\n",
              "      <td>-20.157923</td>\n",
              "    </tr>\n",
              "  </tbody>\n",
              "</table>\n",
              "<p>1000 rows × 4 columns</p>\n",
              "</div>"
            ],
            "text/plain": [
              "            A          B         C          D\n",
              "0   -1.251350  -0.044613 -0.095085   1.569222\n",
              "1   -3.301321  -0.215464 -0.446469   0.616643\n",
              "2   -2.402897  -0.009045 -0.341452   1.364811\n",
              "3   -1.882533   0.209041  0.075711   1.467693\n",
              "4    0.135203   0.034593 -0.420931   4.618506\n",
              "..        ...        ...       ...        ...\n",
              "995  8.146141 -23.999563 -6.319913 -18.183633\n",
              "996  8.501256 -23.924921 -6.855300 -18.225066\n",
              "997  7.769469 -24.793403 -8.095200 -19.697387\n",
              "998  7.558663 -24.761982 -8.022721 -19.600010\n",
              "999  7.204572 -24.516004 -8.434323 -20.157923\n",
              "\n",
              "[1000 rows x 4 columns]"
            ]
          },
          "metadata": {},
          "execution_count": 24
        }
      ]
    },
    {
      "cell_type": "code",
      "metadata": {
        "id": "kAmwuD0xthZa",
        "colab": {
          "base_uri": "https://localhost:8080/",
          "height": 297
        },
        "outputId": "6a656465-eb62-4294-c9fd-cdddef950777"
      },
      "source": [
        "plt.figure()\n",
        "df.plot()"
      ],
      "execution_count": null,
      "outputs": [
        {
          "output_type": "execute_result",
          "data": {
            "text/plain": [
              "<matplotlib.axes._subplots.AxesSubplot at 0x7fc951f027d0>"
            ]
          },
          "metadata": {},
          "execution_count": 25
        },
        {
          "output_type": "display_data",
          "data": {
            "text/plain": [
              "<Figure size 432x288 with 0 Axes>"
            ]
          },
          "metadata": {}
        },
        {
          "output_type": "display_data",
          "data": {
            "image/png": "[encoded data removed]",
            "text/plain": [
              "<Figure size 432x288 with 1 Axes>"
            ]
          },
          "metadata": {
            "needs_background": "light"
          }
        }
      ]
    },
    {
      "cell_type": "markdown",
      "metadata": {
        "id": "8-5hbDI_xpMz"
      },
      "source": [
        "In Pandas, plot functions can be called directly on dataframes, e.g. using the function `plot.bar()` (we saw an example earlier with `df.plot()`)"
      ]
    },
    {
      "cell_type": "code",
      "metadata": {
        "id": "XQXb5HE9xqBg",
        "colab": {
          "base_uri": "https://localhost:8080/",
          "height": 262
        },
        "outputId": "469062bf-d7a8-4537-a9ca-1caad0165f4f"
      },
      "source": [
        "df = pd.DataFrame(np.random.rand(10, 4), columns=['a', 'b', 'c', 'd'])\n",
        "df.plot.bar();"
      ],
      "execution_count": null,
      "outputs": [
        {
          "output_type": "display_data",
          "data": {
            "image/png": "[encoded data removed]",
            "text/plain": [
              "<Figure size 432x288 with 1 Axes>"
            ]
          },
          "metadata": {
            "needs_background": "light"
          }
        }
      ]
    },
    {
      "cell_type": "markdown",
      "metadata": {
        "id": "RdxtdEkdyDVS"
      },
      "source": [
        "More on `matplotlib` <a href='https://matplotlib.org/tutorials/introductory/pyplot.html'>here</a>\n",
        "\n",
        "## Exercise 0.1: do-it-yourself!\n",
        "\n",
        "Now it is your turn to put together what you just learnt:\n",
        "\n",
        "1. create a numpy array or a pandas dataframe (or a combination of both)\n",
        "2. plot the data"
      ]
    },
    {
      "cell_type": "code",
      "metadata": {
        "id": "7pgaMu_wyUtw"
      },
      "source": [
        "## your code here"
      ],
      "execution_count": null,
      "outputs": []
    }
  ]
}