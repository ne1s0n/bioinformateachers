{
  "nbformat": 4,
  "nbformat_minor": 0,
  "metadata": {
    "kernelspec": {
      "display_name": "Python 3",
      "language": "python",
      "name": "python3"
    },
    "language_info": {
      "codemirror_mode": {
        "name": "ipython",
        "version": 3
      },
      "file_extension": ".py",
      "mimetype": "text/x-python",
      "name": "python",
      "nbconvert_exporter": "python",
      "pygments_lexer": "ipython3",
      "version": "3.8.2"
    },
    "colab": {
      "name": "code_04_logistic_regression_iris.ipynb",
      "provenance": [],
      "collapsed_sections": [
        "A7KaVFHlxb1n",
        "juKrvxaXxb8t"
      ],
      "toc_visible": true
    }
  },
  "cells": [
    {
      "cell_type": "markdown",
      "metadata": {
        "id": "A7KaVFHlxb1n",
        "colab_type": "text"
      },
      "source": [
        "# Assignment\n",
        "\n",
        "Do [logistic regression](https://en.wikipedia.org/wiki/Logistic_regression) on the famous [Iris dataset](https://en.wikipedia.org/wiki/Iris_flower_data_set) and plot the decision boundary. Then exted to multilass using [softmax](https://en.wikipedia.org/wiki/Softmax_function)."
      ]
    },
    {
      "cell_type": "markdown",
      "metadata": {
        "id": "wL33hK2-xb1t",
        "colab_type": "text"
      },
      "source": [
        "# Setup\n",
        "The topics of this exercise are very famous and very well known, so a lot of educational material is available online. E.g., for logistic regression:\n",
        "\n",
        "* [Logistic regression @towardsdatascience](https://towardsdatascience.com/understanding-logistic-regression-9b02c2aec102)\n",
        "* [Logistic regression @Biochemia Medica](https://www.ncbi.nlm.nih.gov/pmc/articles/PMC3936971/)\n",
        "* [Logistic regression @datacamp](https://www.datacamp.com/community/tutorials/understanding-logistic-regression-python)\n",
        "\n",
        "Let's just frame the terms of the first part of the problem:\n",
        "* we are talking about **binary** classification: all samples belong to two classes (represented by values 0 and 1). We want to build a statistical machine able to predict, for a new sample, the class\n",
        "* for each sample we have a set numbers, called **features**. The easiest-to-understand case is when these features are actual phyisical measurements, but any set of data will do\n",
        "* in **standard regression** we weight each feature with a number (positive or negative, big or small). We then multiply each feature times its weight and add everything...\n",
        "* ...but we cannot do that now, since the resulting number could be very big (positive big or negative big). But our desired result is a class! In other words our machine needs to produce either a zero or a one. Or maybe **all the numbers between zero and one**, so that we have an idea about how certain our prediction is\n",
        "* in fact, a 0.99 will show more confidence than a 0.8, which will be more confident than a 0.65, even if all three outputs at the end can be considered as \"class 1\" (since those numbers are closer to 1 than to 0) \n",
        "* to do so we feed what is produced by a regular regression into a **sigmoid function**, which looks like this:\n",
        "\n",
        "<img src=\"https:///raw.githubusercontent.com/ne1s0n/coding_excercises/master/data/Logistic-curve.png\" width=\"400\">\n",
        "\n",
        "This function takes in input any number from -infinity to +infinity and returns a value between zero and one. This will be our prediction. Let's start building the solution."
      ]
    },
    {
      "cell_type": "markdown",
      "metadata": {
        "id": "vQrrKeGYxb1y",
        "colab_type": "text"
      },
      "source": [
        "## Setting the random seed\n",
        "\n",
        "First of all, we setup the random seed to ensure reproducibility of results. Since tensorflow uses an internal random generator we need to fix both the general seed (via numpy `seed()`) and tensorflow seed (via `set_seet()`)"
      ]
    },
    {
      "cell_type": "code",
      "metadata": {
        "id": "AjF5SK5bxb13",
        "colab_type": "code",
        "colab": {}
      },
      "source": [
        "#general random seed\n",
        "from numpy.random import seed\n",
        "seed(777)\n",
        "\n",
        "#tensorflow-specific seed\n",
        "import tensorflow\n",
        "tensorflow.random.set_seed(777)"
      ],
      "execution_count": null,
      "outputs": []
    },
    {
      "cell_type": "markdown",
      "metadata": {
        "id": "FL2D56dZxb2S",
        "colab_type": "text"
      },
      "source": [
        "# The Iris dataset\n",
        "\n",
        "The dataset we are going to use is very famous. It was published by Robert Fisher in 1936 together with the paper [The use of multiple measurements in taxonomic problems](https://onlinelibrary.wiley.com/doi/abs/10.1111/j.1469-1809.1936.tb02137.x). Data are public and nowadays this dataset is shipped with many statistical software and packages. We are going to use the copy coming with [sci-kit learn](https://scikit-learn.org/stable/modules/generated/sklearn.datasets.load_iris.html#sklearn.datasets.load_iris)."
      ]
    },
    {
      "cell_type": "markdown",
      "metadata": {
        "id": "n6OEdjz75uvF",
        "colab_type": "text"
      },
      "source": [
        "First of all, let's verify the sci-kit version available:"
      ]
    },
    {
      "cell_type": "code",
      "metadata": {
        "id": "NV2m-K3i51Mg",
        "colab_type": "code",
        "colab": {
          "base_uri": "https://localhost:8080/",
          "height": 34
        },
        "outputId": "0a85bc2d-aa1a-42a5-bab1-b3267aab4deb"
      },
      "source": [
        "import sklearn.datasets\n",
        "print (sklearn.__version__)"
      ],
      "execution_count": null,
      "outputs": [
        {
          "output_type": "stream",
          "text": [
            "0.22.2.post1\n"
          ],
          "name": "stdout"
        }
      ]
    },
    {
      "cell_type": "markdown",
      "metadata": {
        "id": "gU1rz0C852xM",
        "colab_type": "text"
      },
      "source": [
        "If we had version 0.23+ we could simply do:\n",
        "\n",
        "> `iris = sklearn.datasets.load_iris(return_X_y = False, as_frame = True)`\n",
        "\n",
        "But the above instruction would generate an error with the current installation. The main difference is in the format used to store data: numpy array (version 0.22 and below) or pandas dataframe/series (version 0.23 and above). Since we want to use the pandas data structure the returned data require a little conversion:"
      ]
    },
    {
      "cell_type": "code",
      "metadata": {
        "id": "PVnTo-17xb2V",
        "colab_type": "code",
        "colab": {}
      },
      "source": [
        "import pandas as pd\n",
        "\n",
        "iris = sklearn.datasets.load_iris()\n",
        "iris.data = pd.DataFrame(iris.data, columns=iris.feature_names) #converting numpy array -> pandas DataFrame\n",
        "iris.target = pd.Series(iris.target) #converting numpy array -> pandas Series"
      ],
      "execution_count": null,
      "outputs": []
    },
    {
      "cell_type": "markdown",
      "metadata": {
        "id": "kxHM6By7xb2q",
        "colab_type": "text"
      },
      "source": [
        "The variable `iris` is now a [bunch object](https://scikit-learn.org/stable/modules/generated/sklearn.utils.Bunch.html#sklearn.utils.Bunch) and contains all the required data."
      ]
    },
    {
      "cell_type": "code",
      "metadata": {
        "id": "_1YWPwTcxb2u",
        "colab_type": "code",
        "colab": {}
      },
      "source": [
        "#uncomment the following instruction to print a detailed description\n",
        "#of the Iris dataset, here omitted for compactness\n",
        "#print(iris.DESCR)"
      ],
      "execution_count": null,
      "outputs": []
    },
    {
      "cell_type": "markdown",
      "metadata": {
        "id": "JsHRYaXSxb2_",
        "colab_type": "text"
      },
      "source": [
        "The dataset describes 150 flower samples, belonging to three species of Iris (Iris setosa, Iris virginica and Iris versicolor). Four features were measured from each sample: the length and the width of the sepals and of the petals, in centimeters. Features are found in the attribute `.data` of the returned bunch object:"
      ]
    },
    {
      "cell_type": "code",
      "metadata": {
        "id": "efNZU1tDxb3D",
        "colab_type": "code",
        "colab": {
          "base_uri": "https://localhost:8080/",
          "height": 34
        },
        "outputId": "cccfc8a6-4476-4d16-8e63-ec6b30f75846"
      },
      "source": [
        "print('Shape of the feature table: ' + str(iris.data.shape))"
      ],
      "execution_count": null,
      "outputs": [
        {
          "output_type": "stream",
          "text": [
            "Shape of the feature table: (150, 4)\n"
          ],
          "name": "stdout"
        }
      ]
    },
    {
      "cell_type": "markdown",
      "metadata": {
        "id": "0PFAyC0Vxb3X",
        "colab_type": "text"
      },
      "source": [
        "We can take a look at the actual numbers:"
      ]
    },
    {
      "cell_type": "code",
      "metadata": {
        "id": "63lQd2Pnxb3a",
        "colab_type": "code",
        "colab": {
          "base_uri": "https://localhost:8080/",
          "height": 260
        },
        "outputId": "7cfcfbbb-69f5-4c47-ef58-94363571557f"
      },
      "source": [
        "print(iris.data)"
      ],
      "execution_count": null,
      "outputs": [
        {
          "output_type": "stream",
          "text": [
            "     sepal length (cm)  sepal width (cm)  petal length (cm)  petal width (cm)\n",
            "0                  5.1               3.5                1.4               0.2\n",
            "1                  4.9               3.0                1.4               0.2\n",
            "2                  4.7               3.2                1.3               0.2\n",
            "3                  4.6               3.1                1.5               0.2\n",
            "4                  5.0               3.6                1.4               0.2\n",
            "..                 ...               ...                ...               ...\n",
            "145                6.7               3.0                5.2               2.3\n",
            "146                6.3               2.5                5.0               1.9\n",
            "147                6.5               3.0                5.2               2.0\n",
            "148                6.2               3.4                5.4               2.3\n",
            "149                5.9               3.0                5.1               1.8\n",
            "\n",
            "[150 rows x 4 columns]\n"
          ],
          "name": "stdout"
        }
      ]
    },
    {
      "cell_type": "markdown",
      "metadata": {
        "id": "XNIsHxs8xb3w",
        "colab_type": "text"
      },
      "source": [
        "As said above, each of the 150 lines represents a different flower, each belonging to one of the three Iris species. The species will be our target, the class that we are trying to predict. Let's take a look into the dataset:"
      ]
    },
    {
      "cell_type": "code",
      "metadata": {
        "id": "uBK_Kec4xb3y",
        "colab_type": "code",
        "colab": {
          "base_uri": "https://localhost:8080/",
          "height": 69
        },
        "outputId": "b6c17bc5-e6b0-48d0-a7d2-51f48fc89ecd"
      },
      "source": [
        "print('Shape of the target variable: ' + str(iris.target.shape))\n",
        "print('Names for each class: ' + str(iris.target_names))\n",
        "\n",
        "#using Counter object to print a tally of the classes\n",
        "from collections import Counter\n",
        "print('Numerosity for each class: ' + str(Counter(iris.target)))"
      ],
      "execution_count": null,
      "outputs": [
        {
          "output_type": "stream",
          "text": [
            "Shape of the target variable: (150,)\n",
            "Names for each class: ['setosa' 'versicolor' 'virginica']\n",
            "Numerosity for each class: Counter({0: 50, 1: 50, 2: 50})\n"
          ],
          "name": "stdout"
        }
      ]
    },
    {
      "cell_type": "markdown",
      "metadata": {
        "id": "9unw7Ck6xb3_",
        "colab_type": "text"
      },
      "source": [
        "Classes are represented via a numeric index: 0 for *setosa*, 1 for *versicolor*, 2 for *virginica*. The samples are presented in order, with the first 50 samples being *setosa*, then 50 *versicolor* and the last 50 being *virginica*.\n",
        "\n",
        "Always when working with a new datasets it is importat to plot the data if possible. We are unfortunately talking about a 5-dimensional dataset (the four features + the target class) which is not easily representable. One solution in these cases is to slice a subset of the whole dataset.\n",
        "\n",
        "In the following code we'll plot two features at a time, plus the class."
      ]
    },
    {
      "cell_type": "code",
      "metadata": {
        "id": "JXcYoGlDxb4B",
        "colab_type": "code",
        "colab": {
          "base_uri": "https://localhost:8080/",
          "height": 282
        },
        "outputId": "cb62b5e1-fc0f-417c-ed49-dd497cd20f8c"
      },
      "source": [
        "#change these two values to plot different features, remembering the numbering:\n",
        "# 0 : sepal length (cm)\n",
        "# 1 : sepal width (cm)\n",
        "# 2 : petal length (cm)\n",
        "# 3 : petal width (cm)\n",
        "feature_x = 0\n",
        "feature_y = 1\n",
        "\n",
        "#old reliable pyplot!\n",
        "import matplotlib.pyplot as plt\n",
        "\n",
        "#starting a new plot\n",
        "fig, ax = plt.subplots()\n",
        "\n",
        "#adding data in three bunches of 50, once per class\n",
        "ax.scatter(x=iris.data.iloc[0:50,feature_x],    y=iris.data.iloc[0:50,feature_y],    c='red',   label=iris.target_names[0])\n",
        "ax.scatter(x=iris.data.iloc[50:100,feature_x],  y=iris.data.iloc[50:100,feature_y],  c='green', label=iris.target_names[1])\n",
        "ax.scatter(x=iris.data.iloc[100:150,feature_x], y=iris.data.iloc[100:150,feature_y], c='blue',  label=iris.target_names[2])\n",
        "\n",
        "#the axis names are taken from feature names\n",
        "ax.set_xlabel(iris.feature_names[feature_x])\n",
        "ax.set_ylabel(iris.feature_names[feature_y])\n",
        "\n",
        "#adding the legend and printing the plot\n",
        "ax.legend()\n",
        "plt.show()"
      ],
      "execution_count": null,
      "outputs": [
        {
          "output_type": "display_data",
          "data": {
            "image/png": "[encoded data removed]",
            "text/plain": [
              "<Figure size 432x288 with 1 Axes>"
            ]
          },
          "metadata": {
            "tags": [],
            "needs_background": "light"
          }
        }
      ]
    },
    {
      "cell_type": "markdown",
      "metadata": {
        "id": "8gLUzs_Axb4R",
        "colab_type": "text"
      },
      "source": [
        "The plot shows clearly that setosa is quite separate from the other two classes. Even chosing other features for the plot the general result is similar.\n",
        "\n",
        "To be totally frank, this dataset is quite simple. In fact even if it's not possible to easily plot everything, using the four features most classifier can reach very close to 100% accuracy when trying to separate Setosa from the other species.\n",
        "\n",
        "To make things a little more interesting we decide to renounce to half of our features, using only the first two columns. Moreover, we join together Setosa and Versicolor. In other words, we want a classifier able to discriminate virginica (which becomes the new class \"1\") from the other irises (which all together become the new class \"0\"):"
      ]
    },
    {
      "cell_type": "code",
      "metadata": {
        "id": "RKlFTUZkxb4U",
        "colab_type": "code",
        "colab": {}
      },
      "source": [
        "#simplifly the problem: less classes, less features\n",
        "features = iris.data.iloc[:, 0:2]\n",
        "target = iris.target\n",
        "\n",
        "#updating class labels. To makes things difficult we put together old classes 0 and 1\n",
        "#in a new class (non virginica) and keep old class 2 (virginica) as new class 1.\n",
        "#For an easier problems put together versicolor and virginica and keep setosa by itself\n",
        "target[0:100] = 0 \n",
        "target[100:150] = 1"
      ],
      "execution_count": null,
      "outputs": []
    },
    {
      "cell_type": "markdown",
      "metadata": {
        "id": "poFrOjYtxb4j",
        "colab_type": "text"
      },
      "source": [
        "Let's take a look at the new dataset:"
      ]
    },
    {
      "cell_type": "code",
      "metadata": {
        "id": "TA53hyylxb4m",
        "colab_type": "code",
        "colab": {
          "base_uri": "https://localhost:8080/",
          "height": 282
        },
        "outputId": "36fac43a-c3ac-4d12-a253-a35813f59c1a"
      },
      "source": [
        "#starting a new plot\n",
        "fig, ax = plt.subplots()\n",
        "\n",
        "#adding data in two bunches\n",
        "ax.scatter(x=features.iloc[0:100,0],   y=features.iloc[0:100,1],   c='red',  label='Not virginica')\n",
        "ax.scatter(x=features.iloc[100:150,0], y=features.iloc[100:150,1], c='blue', label='virginica')\n",
        "\n",
        "#the axis names are taken from feature names\n",
        "ax.set_xlabel(iris.feature_names[feature_x])\n",
        "ax.set_ylabel(iris.feature_names[feature_y])\n",
        "\n",
        "#adding the legend and printing the plot\n",
        "ax.legend()\n",
        "plt.show()"
      ],
      "execution_count": null,
      "outputs": [
        {
          "output_type": "display_data",
          "data": {
            "image/png": "[encoded data removed]",
            "text/plain": [
              "<Figure size 432x288 with 1 Axes>"
            ]
          },
          "metadata": {
            "tags": [],
            "needs_background": "light"
          }
        }
      ]
    },
    {
      "cell_type": "markdown",
      "metadata": {
        "id": "2ZJ8LK-oxb41",
        "colab_type": "text"
      },
      "source": [
        "Things are getting interesting! This is now a difficult problem and there is no clear cut solution. Let's proceed."
      ]
    },
    {
      "cell_type": "markdown",
      "metadata": {
        "id": "tC1QwVSkxb44",
        "colab_type": "text"
      },
      "source": [
        "# Training and validation sets\n",
        "\n",
        "Each time there is some kind of \"learning\" involved we need to split our data. A subset will be used for training, and a subset will be used for validation. (there may be room for another subset, the \"test set\", but we are not talking about it now).\n",
        "\n",
        "In our current dataset the samples are sorted by class: the first 100 are from \"Not virginica\" class, and the remaining 50 are from virginica. We want to keep this 2:1 proportion (roughly) the same in both train and validation set."
      ]
    },
    {
      "cell_type": "code",
      "metadata": {
        "id": "G8T2IV-Yxb48",
        "colab_type": "code",
        "colab": {
          "base_uri": "https://localhost:8080/",
          "height": 34
        },
        "outputId": "35d301db-8e9c-4f18-f1c9-eb10e882e621"
      },
      "source": [
        "#selecting the first 100 samples for training would be a bad choice...\n",
        "print(Counter(iris.target[0:100]))"
      ],
      "execution_count": null,
      "outputs": [
        {
          "output_type": "stream",
          "text": [
            "Counter({0: 100})\n"
          ],
          "name": "stdout"
        }
      ]
    },
    {
      "cell_type": "markdown",
      "metadata": {
        "id": "fr9IavcXxb5M",
        "colab_type": "text"
      },
      "source": [
        "To do so we are going to use what is called a [stratified approach](https://machinelearningmastery.com/cross-validation-for-imbalanced-classification/) using a [StratifiedShuffleSplit](https://scikit-learn.org/stable/modules/generated/sklearn.model_selection.StratifiedShuffleSplit.html) object from Sci-kit learn:"
      ]
    },
    {
      "cell_type": "code",
      "metadata": {
        "id": "SUfSZFZCxb5Q",
        "colab_type": "code",
        "colab": {
          "base_uri": "https://localhost:8080/",
          "height": 121
        },
        "outputId": "40b48d96-cd92-4a90-c219-45cfc36ef700"
      },
      "source": [
        "#we want to have the same proportion of classes in both train and validation sets\n",
        "from sklearn.model_selection import StratifiedShuffleSplit\n",
        "\n",
        "#building a StratifiedShuffleSplit object (sss among friends) with 20% data\n",
        "#assigned to validation set (here called \"test\")\n",
        "sss = StratifiedShuffleSplit(n_splits=1, test_size=0.2, random_state=0)\n",
        "\n",
        "#the .split() method returns (an iterable over) two lists which can be\n",
        "#used to index the samples that go into train and validation sets\n",
        "for train_index, val_index in sss.split(features, target):\n",
        "    features_train = features.iloc[train_index, :]\n",
        "    features_val   = features.iloc[val_index, :]\n",
        "    target_train   = target[train_index]\n",
        "    target_val     = target[val_index]\n",
        "    \n",
        "#let's print some shapes to get an idea of the resulting data structure\n",
        "print(features_train.shape)\n",
        "print(features_val.shape)\n",
        "print(target_train.shape)\n",
        "print(target_val.shape)\n",
        "\n",
        "print(type(features_train))\n",
        "print(type(target_train))"
      ],
      "execution_count": null,
      "outputs": [
        {
          "output_type": "stream",
          "text": [
            "(120, 2)\n",
            "(30, 2)\n",
            "(120,)\n",
            "(30,)\n",
            "<class 'pandas.core.frame.DataFrame'>\n",
            "<class 'pandas.core.series.Series'>\n"
          ],
          "name": "stdout"
        }
      ]
    },
    {
      "cell_type": "markdown",
      "metadata": {
        "id": "ZMFdrCCDxb5b",
        "colab_type": "text"
      },
      "source": [
        "It appears that we are using 20% of our data (30 out of 150) for the validation set and the other 80% for the train set."
      ]
    },
    {
      "cell_type": "markdown",
      "metadata": {
        "id": "yW3iFteCxb5c",
        "colab_type": "text"
      },
      "source": [
        "# Logistic regression using Keras\n",
        "\n",
        "While most statistical packets implement some form of logistic regression in this exercise we are interested in using Keras, which is a library aimed to (Deep) Neural Networks.  \n",
        "Actually logistic regression plays an important role in neural networks and it's typically used in the last (or second to last) layer of a classifier. For more details on how to use keras a good starting point is the [documentation on training and evaluation](https://www.tensorflow.org/guide/keras/train_and_evaluate).\n",
        "\n",
        "Our neural network will be very easy and very minimal, and will be comprised of only one node (neuron) implementing both regression and sigmoid function. \n",
        "\n",
        "<img src=\"https://raw.githubusercontent.com/ne1s0n/coding_excercises/master/data/sigmoid_neuron.png\">\n",
        "\n",
        "We are now ready to build the model! "
      ]
    },
    {
      "cell_type": "code",
      "metadata": {
        "id": "FU9nDLYPxb5f",
        "colab_type": "code",
        "colab": {}
      },
      "source": [
        "#we are building a \"sequential\" model, meaning that the data will \n",
        "#flow like INPUT -> ELABORATION -> OUTPUT. In particular, we will\n",
        "#not have any loops, i.e. our output will never be recycled as\n",
        "#input for the first layer\n",
        "from keras.models import Sequential\n",
        "\n",
        "#a \"dense\" layer is a layer were all the data coming in are connected\n",
        "#to all nodes. In our case there is only one node in the layer, and\n",
        "#it receives all the features\n",
        "from keras.layers import Dense\n",
        "\n",
        "# 2-class logistic regression in Keras\n",
        "model = Sequential()\n",
        "model.add(Dense(1, activation='sigmoid', input_dim=features_train.shape[1]))\n",
        "\n",
        "#the model is declared, but we still need to compile it to actually\n",
        "#build all the data structures\n",
        "model.compile(optimizer='rmsprop', loss='binary_crossentropy')"
      ],
      "execution_count": null,
      "outputs": []
    },
    {
      "cell_type": "markdown",
      "metadata": {
        "id": "yuefLP5OiuM1",
        "colab_type": "text"
      },
      "source": [
        "Let's take a look inside the model:"
      ]
    },
    {
      "cell_type": "code",
      "metadata": {
        "id": "Vhg73fdLiu8k",
        "colab_type": "code",
        "colab": {
          "base_uri": "https://localhost:8080/",
          "height": 208
        },
        "outputId": "201d58d2-4dd6-47ad-da62-1b45fc812f8f"
      },
      "source": [
        "print(model.summary())"
      ],
      "execution_count": null,
      "outputs": [
        {
          "output_type": "stream",
          "text": [
            "Model: \"sequential\"\n",
            "_________________________________________________________________\n",
            "Layer (type)                 Output Shape              Param #   \n",
            "=================================================================\n",
            "dense (Dense)                (None, 1)                 3         \n",
            "=================================================================\n",
            "Total params: 3\n",
            "Trainable params: 3\n",
            "Non-trainable params: 0\n",
            "_________________________________________________________________\n",
            "None\n"
          ],
          "name": "stdout"
        }
      ]
    },
    {
      "cell_type": "markdown",
      "metadata": {
        "id": "6wKy6S8Hi6wY",
        "colab_type": "text"
      },
      "source": [
        "Keras informs us that there are three trainable parameters (W1, W2, B), and a single node. The output is a single number. Excellent."
      ]
    },
    {
      "cell_type": "markdown",
      "metadata": {
        "id": "9soWAxvoxb5v",
        "colab_type": "text"
      },
      "source": [
        "We have now prepared everything we need and are ready to train the model on our data. It's an iterative process that cycles many times through what are called `epochs`. We'll start with ten:"
      ]
    },
    {
      "cell_type": "code",
      "metadata": {
        "id": "-B5xRokaxb5x",
        "colab_type": "code",
        "colab": {
          "base_uri": "https://localhost:8080/",
          "height": 364
        },
        "outputId": "dbb1c68e-b67c-4b4e-d911-ac97f1925e20"
      },
      "source": [
        "history = model.fit(features_train, target_train, epochs=10, validation_data=(features_val, target_val))"
      ],
      "execution_count": null,
      "outputs": [
        {
          "output_type": "stream",
          "text": [
            "Epoch 1/10\n",
            "4/4 [==============================] - 0s 36ms/step - loss: 0.6551 - val_loss: 0.6609\n",
            "Epoch 2/10\n",
            "4/4 [==============================] - 0s 5ms/step - loss: 0.6397 - val_loss: 0.6504\n",
            "Epoch 3/10\n",
            "4/4 [==============================] - 0s 6ms/step - loss: 0.6295 - val_loss: 0.6419\n",
            "Epoch 4/10\n",
            "4/4 [==============================] - 0s 5ms/step - loss: 0.6210 - val_loss: 0.6340\n",
            "Epoch 5/10\n",
            "4/4 [==============================] - 0s 6ms/step - loss: 0.6131 - val_loss: 0.6272\n",
            "Epoch 6/10\n",
            "4/4 [==============================] - 0s 6ms/step - loss: 0.6065 - val_loss: 0.6214\n",
            "Epoch 7/10\n",
            "4/4 [==============================] - 0s 7ms/step - loss: 0.6006 - val_loss: 0.6158\n",
            "Epoch 8/10\n",
            "4/4 [==============================] - 0s 7ms/step - loss: 0.5947 - val_loss: 0.6103\n",
            "Epoch 9/10\n",
            "4/4 [==============================] - 0s 7ms/step - loss: 0.5889 - val_loss: 0.6047\n",
            "Epoch 10/10\n",
            "4/4 [==============================] - 0s 6ms/step - loss: 0.5836 - val_loss: 0.6003\n"
          ],
          "name": "stdout"
        }
      ]
    },
    {
      "cell_type": "markdown",
      "metadata": {
        "id": "yaPQ3qYUxb59",
        "colab_type": "text"
      },
      "source": [
        "We asked for ten epochs and the network did just that. At each iteration the network is trying really hard to minimize a [value called \"loss\"](https://keras.io/api/losses/). The specifics are defined by our choice of loss function (we selected `binary_crossentropy`). The basic idea is that the smaller the loss the better the fit.\n",
        "\n",
        "Note that the network minimizes the loss on the training set and does not use the validation set during the learning process. It can however measure the loss on the validation set to give us an idea on how well it can generalize on new data.\n",
        "\n",
        "It's handy at this point to define a function that takes in the `history` object returned by `.fit()` and plots it:"
      ]
    },
    {
      "cell_type": "code",
      "metadata": {
        "id": "XfH-PParxb5_",
        "colab_type": "code",
        "colab": {}
      },
      "source": [
        "#function to take a look at losses evolution\n",
        "def plot_loss_history(h, title):\n",
        "    plt.plot(h.history['loss'], label = \"Train loss\")\n",
        "    plt.plot(h.history['val_loss'], label = \"Validation loss\")\n",
        "    plt.xlabel('Epochs')\n",
        "    plt.title(title)\n",
        "    plt.legend()\n",
        "    plt.show()"
      ],
      "execution_count": null,
      "outputs": []
    },
    {
      "cell_type": "code",
      "metadata": {
        "id": "DlPjVxmRxb6L",
        "colab_type": "code",
        "colab": {
          "base_uri": "https://localhost:8080/",
          "height": 295
        },
        "outputId": "1f0edc68-d074-4d0f-df02-478480513366"
      },
      "source": [
        "plot_loss_history(history, 'Logistic (10 epochs)')"
      ],
      "execution_count": null,
      "outputs": [
        {
          "output_type": "display_data",
          "data": {
            "image/png": "[encoded data removed]",
            "text/plain": [
              "<Figure size 432x288 with 1 Axes>"
            ]
          },
          "metadata": {
            "tags": [],
            "needs_background": "light"
          }
        }
      ]
    },
    {
      "cell_type": "markdown",
      "metadata": {
        "id": "i9tBexuixb6Z",
        "colab_type": "text"
      },
      "source": [
        "The good news is that loss just goes down, both in train and validation set. We can keep training - without recompiling, we just add new epochs to our network."
      ]
    },
    {
      "cell_type": "code",
      "metadata": {
        "id": "8y9EPqsAxb6b",
        "colab_type": "code",
        "colab": {}
      },
      "source": [
        "#putting verbose to 0 to avoid filling the screen\n",
        "history2 = model.fit(features_train, target_train, epochs=490, \n",
        "                     validation_data=(features_val, target_val), verbose=0)"
      ],
      "execution_count": null,
      "outputs": []
    },
    {
      "cell_type": "markdown",
      "metadata": {
        "id": "5ZZ8CsP5xb6j",
        "colab_type": "text"
      },
      "source": [
        "Let's see if we improved:"
      ]
    },
    {
      "cell_type": "code",
      "metadata": {
        "id": "83sq7AIrxb6m",
        "colab_type": "code",
        "colab": {
          "base_uri": "https://localhost:8080/",
          "height": 295
        },
        "outputId": "03d7145b-eee8-41d2-f8f0-229269fcbeba"
      },
      "source": [
        "#putting together the whole history\n",
        "history.history['loss'] += history2.history['loss']\n",
        "history.history['val_loss'] += history2.history['val_loss']\n",
        "\n",
        "#and plotting again\n",
        "plot_loss_history(history, 'Logistic (500 epochs)')"
      ],
      "execution_count": null,
      "outputs": [
        {
          "output_type": "display_data",
          "data": {
            "image/png": "[encoded data removed]",
            "text/plain": [
              "<Figure size 432x288 with 1 Axes>"
            ]
          },
          "metadata": {
            "tags": [],
            "needs_background": "light"
          }
        }
      ]
    },
    {
      "cell_type": "markdown",
      "metadata": {
        "id": "b2lYDLDzxb6y",
        "colab_type": "text"
      },
      "source": [
        "This is very informative: losses keep shrinking, meaning that the network keeps improving. However after a first phase of steep improvement the gain for each epoch slows down considerably.\n",
        "\n",
        "Moreover, we now see a clear difference between train and validation set. This means that, while the network keeps improving, its performances on new data are expected to be worse than those on the training data.\n",
        "\n",
        "Now, we could ask: what happens if we keep training for a long time? We have prepared the code for 10000 epochs, but it takes a long time to run, and it's faster if we simply show the saved results (but you can try to run it putting the following flag to `True`):"
      ]
    },
    {
      "cell_type": "code",
      "metadata": {
        "id": "WQToxteexb65",
        "colab_type": "code",
        "colab": {}
      },
      "source": [
        "do_10000_epochs = False"
      ],
      "execution_count": null,
      "outputs": []
    },
    {
      "cell_type": "code",
      "metadata": {
        "id": "XFlo_sxwxb7J",
        "colab_type": "code",
        "colab": {}
      },
      "source": [
        "#what happens if we keep going for a (very) long time?\n",
        "if (do_10000_epochs):\n",
        "    #train for 10000 epochs, just to show how the model evolves\n",
        "    history3 = model.fit(features_train, target_train, epochs=9500, \n",
        "                         validation_data=(features_val, target_val), verbose=0)\n",
        "\n",
        "    #putting together the whole history\n",
        "    history.history['loss'] += history3.history['loss']\n",
        "    history.history['val_loss'] += history3.history['val_loss']\n",
        "\n",
        "    #and plotting again\n",
        "    plot_loss_history(history, 'Logistic (10000 epochs)')"
      ],
      "execution_count": null,
      "outputs": []
    },
    {
      "cell_type": "markdown",
      "metadata": {
        "id": "4AUuYZfExb7X",
        "colab_type": "text"
      },
      "source": [
        "Our pre-recorded results look like this:\n",
        "\n",
        "![regression_10000_epochs](https://raw.githubusercontent.com/ne1s0n/coding_excercises/master/data/regression_loss10000.png)"
      ]
    },
    {
      "cell_type": "markdown",
      "metadata": {
        "id": "ZQ8weW9axb7Z",
        "colab_type": "text"
      },
      "source": [
        "It appears that there is constant, slow improvement on training set. Improvement on validation set is slower, and if we had the patience to go for a veeeery long time the orange curve would become completely flat. "
      ]
    },
    {
      "cell_type": "markdown",
      "metadata": {
        "id": "nPLcmwSpxb7d",
        "colab_type": "text"
      },
      "source": [
        "# Decision Boundary\n",
        "\n",
        "The assignment asks us to plot the [decision boundary](https://en.wikipedia.org/wiki/Decision_boundary), i.e. a representation in the feature space of the criterions the model is using to classify your data. For this task we'll use the [mlxtend module](http://rasbt.github.io/mlxtend/), which unfortunately does not come with the standard installation. Let's add it!"
      ]
    },
    {
      "cell_type": "code",
      "metadata": {
        "id": "XDOY48G31hO-",
        "colab_type": "code",
        "colab": {
          "base_uri": "https://localhost:8080/",
          "height": 280
        },
        "outputId": "22d2e231-5fb3-4662-d5e2-d417b78c569e"
      },
      "source": [
        "!pip install mlxtend"
      ],
      "execution_count": null,
      "outputs": [
        {
          "output_type": "stream",
          "text": [
            "Requirement already satisfied: mlxtend in /usr/local/lib/python3.6/dist-packages (0.14.0)\n",
            "Requirement already satisfied: scikit-learn>=0.18 in /usr/local/lib/python3.6/dist-packages (from mlxtend) (0.22.2.post1)\n",
            "Requirement already satisfied: numpy>=1.10.4 in /usr/local/lib/python3.6/dist-packages (from mlxtend) (1.18.5)\n",
            "Requirement already satisfied: setuptools in /usr/local/lib/python3.6/dist-packages (from mlxtend) (49.6.0)\n",
            "Requirement already satisfied: matplotlib>=1.5.1 in /usr/local/lib/python3.6/dist-packages (from mlxtend) (3.2.2)\n",
            "Requirement already satisfied: scipy>=0.17 in /usr/local/lib/python3.6/dist-packages (from mlxtend) (1.4.1)\n",
            "Requirement already satisfied: pandas>=0.17.1 in /usr/local/lib/python3.6/dist-packages (from mlxtend) (1.0.5)\n",
            "Requirement already satisfied: joblib>=0.11 in /usr/local/lib/python3.6/dist-packages (from scikit-learn>=0.18->mlxtend) (0.16.0)\n",
            "Requirement already satisfied: kiwisolver>=1.0.1 in /usr/local/lib/python3.6/dist-packages (from matplotlib>=1.5.1->mlxtend) (1.2.0)\n",
            "Requirement already satisfied: pyparsing!=2.0.4,!=2.1.2,!=2.1.6,>=2.0.1 in /usr/local/lib/python3.6/dist-packages (from matplotlib>=1.5.1->mlxtend) (2.4.7)\n",
            "Requirement already satisfied: cycler>=0.10 in /usr/local/lib/python3.6/dist-packages (from matplotlib>=1.5.1->mlxtend) (0.10.0)\n",
            "Requirement already satisfied: python-dateutil>=2.1 in /usr/local/lib/python3.6/dist-packages (from matplotlib>=1.5.1->mlxtend) (2.8.1)\n",
            "Requirement already satisfied: pytz>=2017.2 in /usr/local/lib/python3.6/dist-packages (from pandas>=0.17.1->mlxtend) (2018.9)\n",
            "Requirement already satisfied: six in /usr/local/lib/python3.6/dist-packages (from cycler>=0.10->matplotlib>=1.5.1->mlxtend) (1.15.0)\n"
          ],
          "name": "stdout"
        }
      ]
    },
    {
      "cell_type": "markdown",
      "metadata": {
        "id": "YSlW8Zn62TFT",
        "colab_type": "text"
      },
      "source": [
        "We can now import `mlxtend` package safely."
      ]
    },
    {
      "cell_type": "code",
      "metadata": {
        "id": "IcNiGJoCxb7f",
        "colab_type": "code",
        "colab": {
          "base_uri": "https://localhost:8080/",
          "height": 350
        },
        "outputId": "29e8a806-3b63-447b-c997-80d660e87cf5"
      },
      "source": [
        "from mlxtend.plotting import plot_decision_regions\n",
        "\n",
        "#we'll print the training set\n",
        "plot_decision_regions(features_train.to_numpy(), target_train.to_numpy(), clf=model)\n",
        "plt.title('Decision boundary for 0 (non virginica) vs 1 (virginica)')\n",
        "plt.xlabel(iris.feature_names[feature_x])\n",
        "plt.ylabel(iris.feature_names[feature_y])\n",
        "plt.show()"
      ],
      "execution_count": null,
      "outputs": [
        {
          "output_type": "stream",
          "text": [
            "/usr/local/lib/python3.6/dist-packages/mlxtend/plotting/decision_regions.py:244: MatplotlibDeprecationWarning: Passing unsupported keyword arguments to axis() will raise a TypeError in 3.3.\n",
            "  ax.axis(xmin=xx.min(), xmax=xx.max(), y_min=yy.min(), y_max=yy.max())\n"
          ],
          "name": "stderr"
        },
        {
          "output_type": "display_data",
          "data": {
            "image/png": "[encoded data removed]",
            "text/plain": [
              "<Figure size 432x288 with 1 Axes>"
            ]
          },
          "metadata": {
            "tags": [],
            "needs_background": "light"
          }
        }
      ]
    },
    {
      "cell_type": "markdown",
      "metadata": {
        "id": "dSVGzjaLxb70",
        "colab_type": "text"
      },
      "source": [
        "The decision boundary is linear, as expected by logistic regression. This means that all samples in the pink area will be classified as 1 (virginica) and all points in the blue area be considered 0 (non virginica).\n",
        "\n",
        "Note that relatively many virginica samples are in the blue area compared to the numer of non-virginica present in the pink area. Also note that, roughly speaking, the regressor assigned a wider area to non-virginica. This is a direct consequence of having an unbalanced dataset: two-thirds of the samples are non-virginica (blue squares) and one-third are virginica (red triangles). **The resulting regressor is polarised** toward the more numerous class."
      ]
    },
    {
      "cell_type": "markdown",
      "metadata": {
        "id": "6VERgAx6xb71",
        "colab_type": "text"
      },
      "source": [
        "# Actual predictions\n",
        "\n",
        "Any model is only useful when it's used to predict new, unknown data. In fact the whole validation set was put apart and not really used for training for this specific reason. \n",
        "\n",
        "Luckily, it's very easy to apply a trained model to new values via the [predict() method](https://keras.io/api/models/model_training_apis/#predict-method)."
      ]
    },
    {
      "cell_type": "code",
      "metadata": {
        "id": "h9Qx8SZIxb73",
        "colab_type": "code",
        "colab": {
          "base_uri": "https://localhost:8080/",
          "height": 538
        },
        "outputId": "b9af65d4-f17d-4f3d-df2f-4c3bcf26f759"
      },
      "source": [
        "predictions = model.predict(features_val)\n",
        "print(predictions)"
      ],
      "execution_count": null,
      "outputs": [
        {
          "output_type": "stream",
          "text": [
            "[[0.22289124]\n",
            " [0.42798153]\n",
            " [0.2892147 ]\n",
            " [0.56683457]\n",
            " [0.15156415]\n",
            " [0.18946213]\n",
            " [0.42798153]\n",
            " [0.3026018 ]\n",
            " [0.49765265]\n",
            " [0.64505094]\n",
            " [0.27618527]\n",
            " [0.34743673]\n",
            " [0.17050767]\n",
            " [0.3626923 ]\n",
            " [0.46204674]\n",
            " [0.47805318]\n",
            " [0.48159555]\n",
            " [0.1062865 ]\n",
            " [0.09407479]\n",
            " [0.44728738]\n",
            " [0.477463  ]\n",
            " [0.36707753]\n",
            " [0.34797326]\n",
            " [0.44611812]\n",
            " [0.10606205]\n",
            " [0.33196336]\n",
            " [0.14232534]\n",
            " [0.51312387]\n",
            " [0.19990602]\n",
            " [0.09407479]]\n"
          ],
          "name": "stdout"
        }
      ]
    },
    {
      "cell_type": "markdown",
      "metadata": {
        "id": "KQQhWl_1xb8E",
        "colab_type": "text"
      },
      "source": [
        "We can now compare the list of prediction (sometimes called Ŷ) with the true classes from our validation set (sometimes called Y)."
      ]
    },
    {
      "cell_type": "code",
      "metadata": {
        "id": "fSRwtXesxb8F",
        "colab_type": "code",
        "colab": {
          "base_uri": "https://localhost:8080/",
          "height": 265
        },
        "outputId": "9dd9beda-0f8e-4eb3-e114-a48f6578d664"
      },
      "source": [
        "#starting a new plot\n",
        "fig, ax = plt.subplots()\n",
        "\n",
        "#adding data in two bunches\n",
        "ax.scatter(x=range(30), y=predictions, c='red',  label='predictions')\n",
        "ax.scatter(x=range(30), y=target_val,  c='blue', label='true classes')\n",
        "\n",
        "#adding a horizontal line at quote 0.5, to represent the decision boundary\n",
        "ax.hlines(y=0.5, xmin=0, xmax=29, colors='black')\n",
        "\n",
        "#adding the legend and printing the plot\n",
        "ax.legend(loc='upper right')\n",
        "plt.show()"
      ],
      "execution_count": null,
      "outputs": [
        {
          "output_type": "display_data",
          "data": {
            "image/png": "[encoded data removed]",
            "text/plain": [
              "<Figure size 432x288 with 1 Axes>"
            ]
          },
          "metadata": {
            "tags": [],
            "needs_background": "light"
          }
        }
      ]
    },
    {
      "cell_type": "markdown",
      "metadata": {
        "id": "4I7di12sxb8r",
        "colab_type": "text"
      },
      "source": [
        "Note that the vast majority of predictions is below the 0.5 line (recall that the closer a prediction is to 0 or to 1 the higher the prediction confidence).\n",
        "\n",
        "This confirms our suspicions: the regressor prefers to assign new data to the 0 (non virginica) class."
      ]
    },
    {
      "cell_type": "markdown",
      "metadata": {
        "id": "24lRmS9SDIZv",
        "colab_type": "text"
      },
      "source": [
        "# Multiclass classification using Softmax\n",
        "\n",
        "The assignment ask us to do actual three-classes classification using a Softmax function, which can be easily considered as an extension of logistic regression over three (or more) classes.\n",
        "\n",
        "Luckily, Keras provides a [softmax activation function](https://keras.io/api/layers/activations/#softmax-function), which we will use instead of the logistic we previously used.\n",
        "\n",
        "The structure of our network will be similar, but the output goes from a single number to **three** numbers, one per class, and we thus need three nodes:\n",
        "\n",
        "<img src=\"https://raw.githubusercontent.com/ne1s0n/coding_excercises/master/data/softmax_neuron.png\">\n",
        "\n",
        "As a result, the loss function will need to change. Remember, loss represents a measure of how good the predictions are. Previously we used binary_crossentropy, but since now predictions are multiclass we need to change function. Luckily Keras provides a natural extension for the multiclass case with [CategoricalCrossentropy](https://keras.io/api/losses/probabilistic_losses/#categoricalcrossentropy-class)"
      ]
    },
    {
      "cell_type": "markdown",
      "metadata": {
        "id": "ZaPAhnKdSt1V",
        "colab_type": "text"
      },
      "source": [
        "## A multiclass model\n",
        "\n",
        "We are now ready to declare our new model:"
      ]
    },
    {
      "cell_type": "code",
      "metadata": {
        "id": "BsHpqocHHgLC",
        "colab_type": "code",
        "colab": {}
      },
      "source": [
        "# 3-class softmax regression in Keras\n",
        "model_multi = Sequential()\n",
        "model_multi.add(Dense(3, activation='softmax', input_dim=features_train.shape[1]))\n",
        "\n",
        "#compile the model specifying the new multiclass loss\n",
        "model_multi.compile(optimizer='rmsprop', loss='categorical_crossentropy')"
      ],
      "execution_count": null,
      "outputs": []
    },
    {
      "cell_type": "markdown",
      "metadata": {
        "id": "O0zItKoMiWfX",
        "colab_type": "text"
      },
      "source": [
        "Let's take a look under the hood:"
      ]
    },
    {
      "cell_type": "code",
      "metadata": {
        "id": "pQpDcWHHWNpv",
        "colab_type": "code",
        "colab": {
          "base_uri": "https://localhost:8080/",
          "height": 208
        },
        "outputId": "808a6b3d-1b43-4caf-f498-009d6b0c9e92"
      },
      "source": [
        "print(model_multi.summary())"
      ],
      "execution_count": null,
      "outputs": [
        {
          "output_type": "stream",
          "text": [
            "Model: \"sequential_1\"\n",
            "_________________________________________________________________\n",
            "Layer (type)                 Output Shape              Param #   \n",
            "=================================================================\n",
            "dense_1 (Dense)              (None, 3)                 9         \n",
            "=================================================================\n",
            "Total params: 9\n",
            "Trainable params: 9\n",
            "Non-trainable params: 0\n",
            "_________________________________________________________________\n",
            "None\n"
          ],
          "name": "stdout"
        }
      ]
    },
    {
      "cell_type": "markdown",
      "metadata": {
        "id": "WiMf-hRqibVs",
        "colab_type": "text"
      },
      "source": [
        "We now have to train nine parameters: three coefficients (W1, W2, B) times tree nodes."
      ]
    },
    {
      "cell_type": "markdown",
      "metadata": {
        "id": "NvpW_iE4H-fY",
        "colab_type": "text"
      },
      "source": [
        "## Categorical data\n",
        "\n",
        "We are now *almost* ready to train. First, we need to go back to having three classes:"
      ]
    },
    {
      "cell_type": "code",
      "metadata": {
        "id": "WL-r1qyHIiH_",
        "colab_type": "code",
        "colab": {}
      },
      "source": [
        "#a new array for multi class\n",
        "target_multi = target\n",
        "target_multi[0:50] = 0      #setosa\n",
        "target_multi[50:100] = 1    #versicolor\n",
        "target_multi[100:150] = 2   #virginica\n",
        "\n",
        "#or we could have used iris.target ..."
      ],
      "execution_count": null,
      "outputs": []
    },
    {
      "cell_type": "markdown",
      "metadata": {
        "id": "l2QT4ALTI8Nf",
        "colab_type": "text"
      },
      "source": [
        "The problem is that our `target_multi` variable is a numeric array. But those numbers we used (0, 1, and 2) do not represent real values. In other words, \"virginica\" is not twice \"versicolor\". Numbers here are used as labels, not as quantities.\n",
        "\n",
        "In fact, to properly train a model the structure of the target array must change to [one-hot encoding](https://en.wikipedia.org/wiki/One-hot). In simple terms, it needs to become a table with one row per sample (150 in total) and one column per class (three in total). Something like:\n",
        "\n",
        "| Setosa | Versicolor | Virginica |\n",
        "|------|------|------|\n",
        "|   0  |   1  |   0  |\n",
        "|   1  |   0  |   0  |\n",
        "|   1  |   0  |   0  |\n",
        "|   0  |   0  |   1  |\n",
        "\n",
        "As you can see the first sample is Versicolor, the second and third are Setosa, the last one is Virginica. Note that there is only a single \"one\" per row.\n",
        "\n",
        "Luckily, it's easy to pass to one-hot encoding using keras function [to_categorical](https://keras.io/api/utils/python_utils/#to_categorical-function):\n",
        "\n"
      ]
    },
    {
      "cell_type": "code",
      "metadata": {
        "id": "MwSdSUo7MBOy",
        "colab_type": "code",
        "colab": {
          "base_uri": "https://localhost:8080/",
          "height": 260
        },
        "outputId": "a5a38654-4d61-4b15-fac3-70560074e47e"
      },
      "source": [
        "#the \"utils\" subpackage is very useful, take a look to it when you have time\n",
        "from keras.utils import to_categorical\n",
        "\n",
        "#converting to categorical\n",
        "target_multi_cat = to_categorical(target_multi)\n",
        "\n",
        "#since everything else is a Pandas dataframe, let's stick to the format\n",
        "#for consistency\n",
        "target_multi_cat = pd.DataFrame(target_multi_cat)\n",
        "\n",
        "#let's take a look\n",
        "print(target_multi_cat)"
      ],
      "execution_count": null,
      "outputs": [
        {
          "output_type": "stream",
          "text": [
            "       0    1    2\n",
            "0    1.0  0.0  0.0\n",
            "1    1.0  0.0  0.0\n",
            "2    1.0  0.0  0.0\n",
            "3    1.0  0.0  0.0\n",
            "4    1.0  0.0  0.0\n",
            "..   ...  ...  ...\n",
            "145  0.0  0.0  1.0\n",
            "146  0.0  0.0  1.0\n",
            "147  0.0  0.0  1.0\n",
            "148  0.0  0.0  1.0\n",
            "149  0.0  0.0  1.0\n",
            "\n",
            "[150 rows x 3 columns]\n"
          ],
          "name": "stdout"
        }
      ]
    },
    {
      "cell_type": "markdown",
      "metadata": {
        "id": "X12Fa0nqNZqn",
        "colab_type": "text"
      },
      "source": [
        "## Training and validation sets, redux\n",
        "\n",
        "We are now ready to create our training and validation sets, as done above:"
      ]
    },
    {
      "cell_type": "code",
      "metadata": {
        "id": "hnqqUVVwNt9k",
        "colab_type": "code",
        "colab": {}
      },
      "source": [
        "#we can actually reuse the StratifiedShuffleSplit object (\"sss\") declared above,\n",
        "#thus keeping the same split ratio (80/20). We are going to overwrite the\n",
        "#previous variables for simplicity, but using the new target table:\n",
        "for train_index, val_index in sss.split(features, target_multi_cat):\n",
        "    features_train = features.iloc[train_index, :]\n",
        "    features_val   = features.iloc[val_index, :]\n",
        "    target_train   = target_multi_cat.iloc[train_index, :]\n",
        "    target_val     = target_multi_cat.iloc[val_index, :]"
      ],
      "execution_count": null,
      "outputs": []
    },
    {
      "cell_type": "markdown",
      "metadata": {
        "id": "TXMA6BDKQJY0",
        "colab_type": "text"
      },
      "source": [
        "Just a little check:"
      ]
    },
    {
      "cell_type": "code",
      "metadata": {
        "id": "OTbbiXnBQMyD",
        "colab_type": "code",
        "colab": {
          "base_uri": "https://localhost:8080/",
          "height": 295
        },
        "outputId": "fb069368-1601-4d40-fe74-fa89796e5208"
      },
      "source": [
        "#shapes\n",
        "print(features_train.shape)\n",
        "print(features_val.shape)\n",
        "print(target_train.shape)\n",
        "print(target_val.shape)\n",
        "\n",
        "#number of classes per split\n",
        "print('\\nClasses in train set:')\n",
        "print(target_train.sum())\n",
        "print('\\nClasses in validation set:')\n",
        "print(target_val.sum())"
      ],
      "execution_count": null,
      "outputs": [
        {
          "output_type": "stream",
          "text": [
            "(120, 2)\n",
            "(30, 2)\n",
            "(120, 3)\n",
            "(30, 3)\n",
            "\n",
            "Classes in train set:\n",
            "0    40.0\n",
            "1    40.0\n",
            "2    40.0\n",
            "dtype: float32\n",
            "\n",
            "Classes in validation set:\n",
            "0    10.0\n",
            "1    10.0\n",
            "2    10.0\n",
            "dtype: float32\n"
          ],
          "name": "stdout"
        }
      ]
    },
    {
      "cell_type": "markdown",
      "metadata": {
        "id": "TpcQyoAUT0hx",
        "colab_type": "text"
      },
      "source": [
        "We have now a balanced dataset, with 40 instances for each class in the training set and 10 in the validation set."
      ]
    },
    {
      "cell_type": "markdown",
      "metadata": {
        "id": "tArpONGrUDde",
        "colab_type": "text"
      },
      "source": [
        "## Training"
      ]
    },
    {
      "cell_type": "markdown",
      "metadata": {
        "id": "bvfTBa3MkVTT",
        "colab_type": "text"
      },
      "source": [
        "We are ready to train. This time we go directly to 500 epochs, trained in silent mode. We then plot the loss function evolution. "
      ]
    },
    {
      "cell_type": "code",
      "metadata": {
        "id": "YfTllaUQUFgi",
        "colab_type": "code",
        "colab": {
          "base_uri": "https://localhost:8080/",
          "height": 295
        },
        "outputId": "96841693-7d76-4405-d12a-439aafcec408"
      },
      "source": [
        "history_multi = model_multi.fit(features_train, target_train, epochs=500, \n",
        "                     validation_data=(features_val, target_val), verbose=0)\n",
        "\n",
        "plot_loss_history(history_multi, 'Softmax multiclass (500 epochs)')"
      ],
      "execution_count": null,
      "outputs": [
        {
          "output_type": "display_data",
          "data": {
            "image/png": "[encoded data removed]",
            "text/plain": [
              "<Figure size 432x288 with 1 Axes>"
            ]
          },
          "metadata": {
            "tags": [],
            "needs_background": "light"
          }
        }
      ]
    },
    {
      "cell_type": "markdown",
      "metadata": {
        "id": "VmymwmC7ZGPS",
        "colab_type": "text"
      },
      "source": [
        "## Decision boundary\n",
        "\n",
        "We want now to plot again the decision boundary. Unfortunately `plot_decision_regions` function from [mlxtend](http://rasbt.github.io/mlxtend/) module does not support one-hot encoded multiclasses natively. Luckily [there's a quick workaround](https://www.machinecurve.com/index.php/2019/10/17/how-to-use-categorical-multiclass-hinge-with-keras/#visualizing-the-decision-boundary), but if you get lost in the code don't worry and just look at the plot :) "
      ]
    },
    {
      "cell_type": "code",
      "metadata": {
        "id": "Fu1b5g07ak5d",
        "colab_type": "code",
        "colab": {
          "base_uri": "https://localhost:8080/",
          "height": 350
        },
        "outputId": "07e60dec-46e2-4cd9-bdd6-5baa6be7095e"
      },
      "source": [
        "import numpy as np\n",
        "\n",
        "#we define a class to take the Keras model and convert its predictions\n",
        "#from \"one probability per iris type\" to \"just the iris type with the highest probability\"\n",
        "class Onehot2Int(object):\n",
        "    def __init__(self, model):\n",
        "        self.model = model\n",
        "\n",
        "    def predict(self, X):\n",
        "        y_pred = self.model.predict(X)\n",
        "        return np.argmax(y_pred, axis=1)\n",
        "\n",
        "#we wrap our trained model, instantiating a new object\n",
        "keras_model_no_ohe = Onehot2Int(model_multi)\n",
        "\n",
        "#and we can now plot the decision boundary safely (we still need to convert\n",
        "#the target one-hot-encoded matrix to int, though)\n",
        "plot_decision_regions(features_train.to_numpy(), np.argmax(target_train.to_numpy(), axis=1), \n",
        "                      clf=keras_model_no_ohe)\n",
        "plt.title('Decision boundary for 0 (setosa) vs 1 (versicolor) vs 2 (virginica)')\n",
        "plt.xlabel(iris.feature_names[feature_x])\n",
        "plt.ylabel(iris.feature_names[feature_y])\n",
        "plt.show()"
      ],
      "execution_count": null,
      "outputs": [
        {
          "output_type": "stream",
          "text": [
            "/usr/local/lib/python3.6/dist-packages/mlxtend/plotting/decision_regions.py:244: MatplotlibDeprecationWarning: Passing unsupported keyword arguments to axis() will raise a TypeError in 3.3.\n",
            "  ax.axis(xmin=xx.min(), xmax=xx.max(), y_min=yy.min(), y_max=yy.max())\n"
          ],
          "name": "stderr"
        },
        {
          "output_type": "display_data",
          "data": {
            "image/png": "[encoded data removed]",
            "text/plain": [
              "<Figure size 432x288 with 1 Axes>"
            ]
          },
          "metadata": {
            "tags": [],
            "needs_background": "light"
          }
        }
      ]
    },
    {
      "cell_type": "markdown",
      "metadata": {
        "id": "kdBwTGzia9MQ",
        "colab_type": "text"
      },
      "source": [
        "Please notice how the decision boundaries are still linear. This is expected since Softmax is the natural extension of Logistic Regression to more than two classes."
      ]
    },
    {
      "cell_type": "markdown",
      "metadata": {
        "id": "juKrvxaXxb8t",
        "colab_type": "text"
      },
      "source": [
        "# Next steps...\n",
        "\n",
        "In this exercise we used a keras node with sigmoid activation function to perform logistic regression on one of the classes from the famous Iris dataset. Several more steps could be implemented:\n",
        "\n",
        "* to improve our understanding of logistic regression we could implement it from scratch, without using keras, following the [steps detailed here](https://towardsdatascience.com/a-logistic-regression-from-scratch-3824468b1f88)\n",
        "* the original dataset contains three classes. We could take the chance to build three different regressors, one per class, and then link them together, maybe via a [softmax node](https://keras.io/api/layers/activations/#softmax-function), and train the resulting two-layers, four-nodes network\n",
        "* what is the effect of including the other two features, which we excluded when solving this exercise? Do performance improve? What happens to decision boundary? \n",
        "* when implementing the newtork we used [rmsprop optimizer](https://keras.io/api/optimizers/rmsprop/) and [binary_crossentropy](https://keras.io/api/losses/probabilistic_losses/#binarycrossentropy-class) loss function, but other [optimizers](https://keras.io/api/optimizers/) and [loss functions](https://keras.io/api/losses/) are available and their effect could be explored"
      ]
    }
  ]
}